{
 "cells": [
  {
   "cell_type": "markdown",
   "metadata": {
    "tags": []
   },
   "source": [
    "# Courses Demo\n",
    "This Jupyter notebook is for exploring the data set courses20-21.json\n",
    "which consists of all Brandeis courses in the 20-21 academic year (Fall20, Spr21, Sum21) \n",
    "which had at least 1 student enrolled.\n",
    "\n",
    "First we need to read the json file into a list of Python dictionaries"
   ]
  },
  {
   "cell_type": "code",
   "execution_count": 1,
   "metadata": {
    "tags": []
   },
   "outputs": [],
   "source": [
    "import json"
   ]
  },
  {
   "cell_type": "code",
   "execution_count": 2,
   "metadata": {},
   "outputs": [],
   "source": [
    "with open(\"pa1_data/courses20-21.json\",\"r\",encoding='utf-8') as jsonfile:\n",
    "    courses = json.load(jsonfile)"
   ]
  },
  {
   "cell_type": "markdown",
   "metadata": {},
   "source": [
    "## Structure of a course\n",
    "Next we look at the fields of each course dictionary and their values"
   ]
  },
  {
   "cell_type": "code",
   "execution_count": 3,
   "metadata": {},
   "outputs": [
    {
     "name": "stdout",
     "output_type": "stream",
     "text": [
      "there are 7813 courses in the dataset\n",
      "here is the data for course 1246\n"
     ]
    },
    {
     "data": {
      "text/plain": [
       "{'limit': 28,\n",
       " 'times': [{'start': 1080, 'end': 1170, 'days': ['w', 'm']}],\n",
       " 'enrolled': 4,\n",
       " 'details': 'Instruction for this course will be offered remotely. Meeting times for this course are listed in the schedule of classes (in ET).',\n",
       " 'type': 'section',\n",
       " 'status_text': 'Open',\n",
       " 'section': '1',\n",
       " 'waiting': 0,\n",
       " 'instructor': ['An', 'Huang', 'anhuang@brandeis.edu'],\n",
       " 'coinstructors': [],\n",
       " 'code': ['MATH', '223A'],\n",
       " 'subject': 'MATH',\n",
       " 'coursenum': '223A',\n",
       " 'name': 'Lie Algebras: Representation Theory',\n",
       " 'independent_study': False,\n",
       " 'term': '1203',\n",
       " 'description': \"Theorems of Engel and Lie. Semisimple Lie algebras, Cartan's criterion. Universal enveloping algebras, PBW theorem, Serre's construction. Representation theory. Other topics as time permits. Usually offered every second year.\\nAn Huang\"}"
      ]
     },
     "execution_count": 3,
     "metadata": {},
     "output_type": "execute_result"
    }
   ],
   "source": [
    "print('there are',len(courses),'courses in the dataset')\n",
    "print('here is the data for course 1246')\n",
    "courses[1246]"
   ]
  },
  {
   "cell_type": "markdown",
   "metadata": {},
   "source": [
    "## Cleaning the data\n",
    "If we want to sort courses by instructor or by code, we need to replace the lists with tuples (which are immutable lists)"
   ]
  },
  {
   "cell_type": "code",
   "execution_count": 4,
   "metadata": {},
   "outputs": [],
   "source": [
    "for course in courses:\n",
    "        course['instructor'] = tuple(course['instructor'])\n",
    "        course['coinstructors'] = tuple([tuple(f) for f in course['coinstructors']])\n",
    "        course['code']= tuple(course['code'])\n",
    "        course[\"enrolled\"]=int(course[\"enrolled\"])"
   ]
  },
  {
   "cell_type": "code",
   "execution_count": 5,
   "metadata": {},
   "outputs": [
    {
     "name": "stdout",
     "output_type": "stream",
     "text": [
      "notice that the instructor and code are tuples now\n"
     ]
    },
    {
     "data": {
      "text/plain": [
       "{'limit': 28,\n",
       " 'times': [{'start': 1080, 'end': 1170, 'days': ['w', 'm']}],\n",
       " 'enrolled': 4,\n",
       " 'details': 'Instruction for this course will be offered remotely. Meeting times for this course are listed in the schedule of classes (in ET).',\n",
       " 'type': 'section',\n",
       " 'status_text': 'Open',\n",
       " 'section': '1',\n",
       " 'waiting': 0,\n",
       " 'instructor': ('An', 'Huang', 'anhuang@brandeis.edu'),\n",
       " 'coinstructors': (),\n",
       " 'code': ('MATH', '223A'),\n",
       " 'subject': 'MATH',\n",
       " 'coursenum': '223A',\n",
       " 'name': 'Lie Algebras: Representation Theory',\n",
       " 'independent_study': False,\n",
       " 'term': '1203',\n",
       " 'description': \"Theorems of Engel and Lie. Semisimple Lie algebras, Cartan's criterion. Universal enveloping algebras, PBW theorem, Serre's construction. Representation theory. Other topics as time permits. Usually offered every second year.\\nAn Huang\"}"
      ]
     },
     "execution_count": 5,
     "metadata": {},
     "output_type": "execute_result"
    }
   ],
   "source": [
    "print('notice that the instructor and code are tuples now')\n",
    "courses[1246]"
   ]
  },
  {
   "cell_type": "markdown",
   "metadata": {},
   "source": [
    "# Exploring the data set\n",
    "Now we will show how to use straight python to explore the data set and answer some interesting questions. Next week we will start learning Pandas/Numpy which are packages that make it easier to explore large dataset efficiently.\n",
    "\n",
    "Here are some questions we can try to answer:\n",
    "* what are all of the subjects of courses (e.g. COSI, MATH, JAPN, PHIL, ...)\n",
    "* which terms are represented?\n",
    "* how many instructors taught at Brandeis last year?\n",
    "* what were the five largest course sections?\n",
    "* what were the five largest courses (where we combine sections)?\n",
    "* which are the five largest subjects measured by number of courses offered?\n",
    "* which are the five largest courses measured by number of students taught?\n",
    "* which course had the most sections taught in 20-21?\n",
    "* who are the top five faculty in terms of number of students taught?\n",
    "* etc."
   ]
  },
  {
   "cell_type": "markdown",
   "metadata": {},
   "source": [
    "# Student Code Below Here:"
   ]
  },
  {
   "cell_type": "markdown",
   "metadata": {},
   "source": [
    "A) How many faculty taught COSI courses last year?"
   ]
  },
  {
   "cell_type": "code",
   "execution_count": 6,
   "metadata": {},
   "outputs": [
    {
     "name": "stdout",
     "output_type": "stream",
     "text": [
      "904\n"
     ]
    }
   ],
   "source": [
    "instructors=set(course[\"instructor\"] for course in courses)\n",
    "print(len(instructors))\n"
   ]
  },
  {
   "cell_type": "markdown",
   "metadata": {},
   "source": [
    "B) What is the total number of students taking COSI courses last year?"
   ]
  },
  {
   "cell_type": "code",
   "execution_count": 7,
   "metadata": {},
   "outputs": [
    {
     "name": "stdout",
     "output_type": "stream",
     "text": [
      "2223\n"
     ]
    }
   ],
   "source": [
    "students= sum([course[\"enrolled\"] for course in courses if course[\"subject\"].lower()==\"cosi\"])\n",
    "print(students)"
   ]
  },
  {
   "cell_type": "markdown",
   "metadata": {},
   "source": [
    "C) What was the median size of a COSI course last year (counting only those courses with at least 10 students)?"
   ]
  },
  {
   "cell_type": "code",
   "execution_count": 8,
   "metadata": {},
   "outputs": [
    {
     "name": "stdout",
     "output_type": "stream",
     "text": [
      "20\n"
     ]
    }
   ],
   "source": [
    "eligibleCourses=sorted([course [\"enrolled\"] for course in courses if course[\"enrolled\"]>=10])\n",
    "median = eligibleCourses[int(len(eligibleCourses)/2)]\n",
    "print(median)"
   ]
  },
  {
   "cell_type": "markdown",
   "metadata": {},
   "source": [
    "D) Create a list of tuples (E,S) where S is a subject and E is the number of students enrolled in courses in that subject, sort it and print the top 10. This shows the top 10 subjects in terms of number of students taught."
   ]
  },
  {
   "cell_type": "code",
   "execution_count": 9,
   "metadata": {},
   "outputs": [
    {
     "name": "stdout",
     "output_type": "stream",
     "text": [
      "[(5318, 'HS'), (3085, 'BIOL'), (2766, 'BUS'), (2734, 'HWL'), (2322, 'CHEM'), (2315, 'ECON'), (2223, 'COSI'), (1785, 'MATH'), (1704, 'PSYC'), (1144, 'ANTH')]\n"
     ]
    }
   ],
   "source": [
    "subjects=set(course[\"subject\"] for course in courses)\n",
    "top_courses=[tuple((sum([course[\"enrolled\"] for course in courses if course[\"subject\"]==subject]),subject)) for subject in subjects]\n",
    "top_courses=sorted(top_courses,reverse=True )\n",
    "print(top_courses[:10])\n"
   ]
  },
  {
   "cell_type": "markdown",
   "metadata": {},
   "source": [
    "These numbers seem high, but it might be because students take multiple courses in a subject at a time."
   ]
  },
  {
   "cell_type": "markdown",
   "metadata": {},
   "source": [
    "E) Do the same as in (d) but print the top 10 subjects in terms of number of courses offered."
   ]
  },
  {
   "cell_type": "code",
   "execution_count": 10,
   "metadata": {},
   "outputs": [
    {
     "name": "stdout",
     "output_type": "stream",
     "text": [
      "[(613, 'BIOL'), (498, 'HIST'), (417, 'PSYC'), (403, 'NEUR'), (296, 'BCHM'), (288, 'PHYS'), (274, 'HS'), (272, 'COSI'), (266, 'MUS'), (265, 'ENG')]\n"
     ]
    }
   ],
   "source": [
    "subjects=set(course[\"subject\"] for course in courses)\n",
    "top_courses=[tuple((len([course[\"enrolled\"] for course in courses if course[\"subject\"]==subject]),subject)) for subject in subjects]\n",
    "top_courses=sorted(top_courses, reverse=True)\n",
    "print(top_courses[:10])"
   ]
  },
  {
   "cell_type": "markdown",
   "metadata": {},
   "source": [
    "F) Do the same as (d) but print the top 10 subjects in terms of number of faculty teaching courses in that subject."
   ]
  },
  {
   "cell_type": "code",
   "execution_count": 11,
   "metadata": {},
   "outputs": [
    {
     "name": "stdout",
     "output_type": "stream",
     "text": [
      "[(87, 'HS'), (67, 'BIOL'), (52, 'ECON'), (49, 'BCHM'), (47, 'HIST'), (47, 'BUS'), (46, 'BCBP'), (42, 'HWL'), (37, 'NEJS'), (37, 'MATH')]\n"
     ]
    }
   ],
   "source": [
    "subjects=set(course[\"subject\"] for course in courses)\n",
    "top_courses=[tuple((len(set(course[\"instructor\"] for course in courses if course[\"subject\"]==subject)),subject)) for subject in subjects]\n",
    "top_courses=sorted(top_courses, reverse=True)\n",
    "print(top_courses[:10])"
   ]
  },
  {
   "cell_type": "markdown",
   "metadata": {},
   "source": [
    "G) List the top 20 faculty in terms of number of students they taught."
   ]
  },
  {
   "cell_type": "code",
   "execution_count": 12,
   "metadata": {},
   "outputs": [
    {
     "name": "stdout",
     "output_type": "stream",
     "text": [
      "['Leah Berkenwald', 'Kene Nathan Piasta', 'Stephanie Murray', 'Milos Dolnik', 'Maria de Boef Miara', 'Bryan Ingoglia', 'Rachel V.E. Woodruff', 'Timothy J Hickey', 'Daniel Breen', 'Melissa Kosinski-Collins', 'Claudia Novack', 'Antonella DiLillo', 'Jon Chilingerian', 'Ahmad Namini', 'Iraklis Tsekourakis', 'Geoffrey Clarke', 'Peter Mistark', 'Brenda Anderson', 'Colleen Hitchcock', 'Scott A. Redenius']\n"
     ]
    }
   ],
   "source": [
    "instructors=set(course[\"instructor\"] for course in courses)\n",
    "top_instructors=[(sum(course[\"enrolled\"] for course in courses if course[\"instructor\"]==instructor),(instructor[0]+\" \"+instructor[1]))for instructor in instructors]\n",
    "top_instructors=sorted(top_instructors,reverse=True)[:20]\n",
    "print([name[1] for name in top_instructors])"
   ]
  },
  {
   "cell_type": "markdown",
   "metadata": {},
   "source": [
    "H) List the top 20 courses in terms of number of students taking that course (where you combine different sections and semesters, i.e. just use the subject and course number)."
   ]
  },
  {
   "cell_type": "code",
   "execution_count": 13,
   "metadata": {},
   "outputs": [
    {
     "name": "stdout",
     "output_type": "stream",
     "text": [
      "['HWL 1', 'HWL 1-PRE', 'BIOL 14A', 'COSI 10A', 'PSYC 10A', 'BIOL 15B', 'MATH 10A', 'BIOL 18B', 'BIOL 18A', 'CHEM 29A', 'CHEM 29B', 'CHEM 25A', 'PSYC 51A', 'CHEM 25B', 'COSI 12B', 'BUS 6A', 'CHEM 18A', 'ECON 10A', 'MATH 15A', 'COSI 21A']\n"
     ]
    }
   ],
   "source": [
    "course_set=set(course[\"code\"] for course in courses)\n",
    "top_courses2=[(sum([course[\"enrolled\"] for course in courses if course[\"code\"]==code]),code[0]+\" \"+code[1]) for code in course_set]\n",
    "top_courses2=sorted(top_courses2, reverse=True)\n",
    "print([topten[1] for topten in top_courses2][:20])"
   ]
  },
  {
   "cell_type": "markdown",
   "metadata": {},
   "source": [
    "I) Create your own interesting question (each team member creates their own) and use Python to answer that question."
   ]
  },
  {
   "cell_type": "markdown",
   "metadata": {},
   "source": [
    "Ben: What are the 10 professors who teach the most COSI courses and the number of courses they taught?"
   ]
  },
  {
   "cell_type": "code",
   "execution_count": 14,
   "metadata": {},
   "outputs": [
    {
     "name": "stdout",
     "output_type": "stream",
     "text": [
      "[(36, 'Paul Miller'), (31, 'James Pustejovsky'), (21, 'Timothy J Hickey'), (21, 'Pengyu Hong'), (18, 'Ralph Salas'), (16, 'Jordan Pollack'), (15, 'Richard Alterman'), (15, 'Olga Papaemmanouil'), (15, 'Nianwen Xue'), (15, 'Mitch Cherniack')]\n"
     ]
    }
   ],
   "source": [
    "instructors=set(course[\"instructor\"] for course in courses if course[\"subject\"]==\"COSI\")\n",
    "professors_courses=[(len([course[\"code\"] for course in courses if course[\"instructor\"]==instructor]),instructor[0]+\" \"+instructor[1]) for instructor in instructors]\n",
    "professors_courses=sorted(professors_courses,reverse=True)\n",
    "print(professors_courses[0:10])\n",
    "\n",
    "    \n",
    "        "
   ]
  },
  {
   "cell_type": "markdown",
   "metadata": {},
   "source": [
    "Jason:"
   ]
  },
  {
   "cell_type": "code",
   "execution_count": null,
   "metadata": {},
   "outputs": [],
   "source": []
  },
  {
   "cell_type": "markdown",
   "metadata": {},
   "source": [
    "Kayla: What are the names of classes in the Economics department with course number 100 or lower?"
   ]
  },
  {
   "cell_type": "code",
   "execution_count": 15,
   "metadata": {},
   "outputs": [
    {
     "name": "stdout",
     "output_type": "stream",
     "text": [
      "{'Environmental Economics', 'Writing in Economics Practicum', 'Introduction to Microeconomics', 'Introduction to Macroeconomics', 'The Global Economy', 'Statistics for Economic Analysis', 'Macroeconomic Theory', 'A Survey of Economics', 'Microeconomic Theory', 'Labor Economics', 'Oral Communication in Economics Practicum', 'The Economics of Race and Gender', 'The Economy of China', 'Senior Research', 'American Economic History', 'Senior Thesis', 'Internship', 'Governance, Bureaucracy and Economic Development', 'Independent Study'}\n"
     ]
    }
   ],
   "source": [
    "undergradEcon = set(course[\"name\"] for course in courses if course[\"subject\"]==\"ECON\" and int(course[\"coursenum\"].rstrip(course[\"coursenum\"][-1])) <= 100)\n",
    "print(undergradEcon)"
   ]
  },
  {
   "cell_type": "markdown",
   "metadata": {},
   "source": [
    "Here is a comment for the concluding video"
   ]
  },
  {
   "cell_type": "markdown",
   "metadata": {},
   "source": [
    "Another video check"
   ]
  },
  {
   "cell_type": "markdown",
   "metadata": {},
   "source": [
    "Kevin:"
   ]
  },
  {
   "cell_type": "code",
   "execution_count": null,
   "metadata": {},
   "outputs": [],
   "source": []
  },
  {
   "cell_type": "markdown",
   "metadata": {},
   "source": [
    "Mason: "
   ]
  },
  {
   "cell_type": "code",
   "execution_count": null,
   "metadata": {},
   "outputs": [],
   "source": []
  }
 ],
 "metadata": {
  "interpreter": {
   "hash": "04b9ab4f2ed1f4ce3e669eed065b2bc9670f4db397352b52f3c4d803c5291a3c"
  },
  "kernelspec": {
   "display_name": "Python 3 (ipykernel)",
   "language": "python",
   "name": "python3"
  },
  "language_info": {
   "codemirror_mode": {
    "name": "ipython",
    "version": 3
   },
   "file_extension": ".py",
   "mimetype": "text/x-python",
   "name": "python",
   "nbconvert_exporter": "python",
   "pygments_lexer": "ipython3",
   "version": "3.8.3"
  }
 },
 "nbformat": 4,
 "nbformat_minor": 4
}
