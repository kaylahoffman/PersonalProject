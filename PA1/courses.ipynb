{
 "cells": [
  {
   "cell_type": "markdown",
   "metadata": {
    "tags": []
   },
   "source": [
    "# Courses Demo\n",
    "This Jupyter notebook is for exploring the data set courses20-21.json\n",
    "which consists of all Brandeis courses in the 20-21 academic year (Fall20, Spr21, Sum21) \n",
    "which had at least 1 student enrolled.\n",
    "\n",
    "First we need to read the json file into a list of Python dictionaries"
   ]
  },
  {
   "cell_type": "code",
   "execution_count": 1,
   "metadata": {
    "tags": []
   },
   "outputs": [],
   "source": [
    "import json"
   ]
  },
  {
   "cell_type": "code",
   "execution_count": 2,
   "metadata": {},
   "outputs": [],
   "source": [
    "with open(\"pa1_data/courses20-21.json\",\"r\",encoding='utf-8') as jsonfile:\n",
    "    courses = json.load(jsonfile)"
   ]
  },
  {
   "cell_type": "markdown",
   "metadata": {},
   "source": [
    "## Structure of a course\n",
    "Next we look at the fields of each course dictionary and their values"
   ]
  },
  {
   "cell_type": "code",
   "execution_count": 3,
   "metadata": {},
   "outputs": [
    {
     "name": "stdout",
     "output_type": "stream",
     "text": [
      "there are 7813 courses in the dataset\n",
      "here is the data for course 1246\n"
     ]
    },
    {
     "data": {
      "text/plain": [
       "{'limit': 28,\n",
       " 'times': [{'start': 1080, 'end': 1170, 'days': ['w', 'm']}],\n",
       " 'enrolled': 4,\n",
       " 'details': 'Instruction for this course will be offered remotely. Meeting times for this course are listed in the schedule of classes (in ET).',\n",
       " 'type': 'section',\n",
       " 'status_text': 'Open',\n",
       " 'section': '1',\n",
       " 'waiting': 0,\n",
       " 'instructor': ['An', 'Huang', 'anhuang@brandeis.edu'],\n",
       " 'coinstructors': [],\n",
       " 'code': ['MATH', '223A'],\n",
       " 'subject': 'MATH',\n",
       " 'coursenum': '223A',\n",
       " 'name': 'Lie Algebras: Representation Theory',\n",
       " 'independent_study': False,\n",
       " 'term': '1203',\n",
       " 'description': \"Theorems of Engel and Lie. Semisimple Lie algebras, Cartan's criterion. Universal enveloping algebras, PBW theorem, Serre's construction. Representation theory. Other topics as time permits. Usually offered every second year.\\nAn Huang\"}"
      ]
     },
     "execution_count": 3,
     "metadata": {},
     "output_type": "execute_result"
    }
   ],
   "source": [
    "print('there are',len(courses),'courses in the dataset')\n",
    "print('here is the data for course 1246')\n",
    "courses[1246]"
   ]
  },
  {
   "cell_type": "markdown",
   "metadata": {},
   "source": [
    "## Cleaning the data\n",
    "If we want to sort courses by instructor or by code, we need to replace the lists with tuples (which are immutable lists)"
   ]
  },
  {
   "cell_type": "code",
   "execution_count": 4,
   "metadata": {},
   "outputs": [],
   "source": [
    "for course in courses:\n",
    "        course['instructor'] = tuple(course['instructor'])\n",
    "        course['coinstructors'] = tuple([tuple(f) for f in course['coinstructors']])\n",
    "        course['code']= tuple(course['code'])\n",
    "        course[\"enrolled\"]=int(course[\"enrolled\"])"
   ]
  },
  {
   "cell_type": "code",
   "execution_count": 5,
   "metadata": {},
   "outputs": [
    {
     "name": "stdout",
     "output_type": "stream",
     "text": [
      "notice that the instructor and code are tuples now\n"
     ]
    },
    {
     "data": {
      "text/plain": [
       "{'limit': 28,\n",
       " 'times': [{'start': 1080, 'end': 1170, 'days': ['w', 'm']}],\n",
       " 'enrolled': 4,\n",
       " 'details': 'Instruction for this course will be offered remotely. Meeting times for this course are listed in the schedule of classes (in ET).',\n",
       " 'type': 'section',\n",
       " 'status_text': 'Open',\n",
       " 'section': '1',\n",
       " 'waiting': 0,\n",
       " 'instructor': ('An', 'Huang', 'anhuang@brandeis.edu'),\n",
       " 'coinstructors': (),\n",
       " 'code': ('MATH', '223A'),\n",
       " 'subject': 'MATH',\n",
       " 'coursenum': '223A',\n",
       " 'name': 'Lie Algebras: Representation Theory',\n",
       " 'independent_study': False,\n",
       " 'term': '1203',\n",
       " 'description': \"Theorems of Engel and Lie. Semisimple Lie algebras, Cartan's criterion. Universal enveloping algebras, PBW theorem, Serre's construction. Representation theory. Other topics as time permits. Usually offered every second year.\\nAn Huang\"}"
      ]
     },
     "execution_count": 5,
     "metadata": {},
     "output_type": "execute_result"
    }
   ],
   "source": [
    "print('notice that the instructor and code are tuples now')\n",
    "courses[1246]"
   ]
  },
  {
   "cell_type": "markdown",
   "metadata": {},
   "source": [
    "# Exploring the data set\n",
    "Now we will show how to use straight python to explore the data set and answer some interesting questions. Next week we will start learning Pandas/Numpy which are packages that make it easier to explore large dataset efficiently.\n",
    "\n",
    "Here are some questions we can try to answer:\n",
    "* what are all of the subjects of courses (e.g. COSI, MATH, JAPN, PHIL, ...)\n",
    "* which terms are represented?\n",
    "* how many instructors taught at Brandeis last year?\n",
    "* what were the five largest course sections?\n",
    "* what were the five largest courses (where we combine sections)?\n",
    "* which are the five largest subjects measured by number of courses offered?\n",
    "* which are the five largest courses measured by number of students taught?\n",
    "* which course had the most sections taught in 20-21?\n",
    "* who are the top five faculty in terms of number of students taught?\n",
    "* etc."
   ]
  },
  {
   "cell_type": "markdown",
   "metadata": {},
   "source": [
    "# Student Code Below Here:"
   ]
  },
  {
   "cell_type": "markdown",
   "metadata": {},
   "source": [
    "A) How many faculty taught COSI courses last year?"
   ]
  },
  {
   "cell_type": "code",
   "execution_count": 6,
   "metadata": {},
   "outputs": [
    {
     "name": "stdout",
     "output_type": "stream",
     "text": [
      "904\n"
     ]
    }
   ],
   "source": [
    "instructors=set(course[\"instructor\"] for course in courses)\n",
    "print(len(instructors))"
   ]
  },
  {
   "cell_type": "markdown",
   "metadata": {},
   "source": [
    "B) What is the total number of students taking COSI courses last year?"
   ]
  },
  {
   "cell_type": "code",
   "execution_count": 7,
   "metadata": {},
   "outputs": [
    {
     "name": "stdout",
     "output_type": "stream",
     "text": [
      "2223\n"
     ]
    }
   ],
   "source": [
    "students= sum([course[\"enrolled\"] for course in courses if course[\"subject\"].lower()==\"cosi\"])\n",
    "print(students)"
   ]
  },
  {
   "cell_type": "markdown",
   "metadata": {},
   "source": [
    "C) What was the median size of a COSI course last year (counting only those courses with at least 10 students)?"
   ]
  },
  {
   "cell_type": "code",
   "execution_count": 8,
   "metadata": {},
   "outputs": [
    {
     "name": "stdout",
     "output_type": "stream",
     "text": [
      "20\n"
     ]
    }
   ],
   "source": [
    "eligibleCourses=sorted([course [\"enrolled\"] for course in courses if course[\"enrolled\"]>=10])\n",
    "median = eligibleCourses[int(len(eligibleCourses)/2)]\n",
    "print(median)"
   ]
  },
  {
   "cell_type": "markdown",
   "metadata": {},
   "source": [
    "D) Create a list of tuples (E,S) where S is a subject and E is the number of students enrolled in courses in that subject, sort it and print the top 10. This shows the top 10 subjects in terms of number of students taught."
   ]
  },
  {
   "cell_type": "code",
   "execution_count": 9,
   "metadata": {},
   "outputs": [
    {
     "name": "stdout",
     "output_type": "stream",
     "text": [
      "[(5318, 'HS'), (3085, 'BIOL'), (2766, 'BUS'), (2734, 'HWL'), (2322, 'CHEM'), (2315, 'ECON'), (2223, 'COSI'), (1785, 'MATH'), (1704, 'PSYC'), (1144, 'ANTH')]\n"
     ]
    }
   ],
   "source": [
    "subjects=set(course[\"subject\"] for course in courses)\n",
    "top_courses=[tuple((sum([course[\"enrolled\"] for course in courses if course[\"subject\"]==subject]),subject)) for subject in subjects]\n",
    "top_courses=sorted(top_courses,reverse=True )\n",
    "print(top_courses[:10])\n"
   ]
  },
  {
   "cell_type": "markdown",
   "metadata": {},
   "source": [
    "These numbers seem high, but it might be because students take multiple courses in a subject at a time."
   ]
  },
  {
   "cell_type": "markdown",
   "metadata": {},
   "source": [
    "E) Do the same as in (d) but print the top 10 subjects in terms of number of courses offered."
   ]
  },
  {
   "cell_type": "code",
   "execution_count": 10,
   "metadata": {},
   "outputs": [
    {
     "name": "stdout",
     "output_type": "stream",
     "text": [
      "[(613, 'BIOL'), (498, 'HIST'), (417, 'PSYC'), (403, 'NEUR'), (296, 'BCHM'), (288, 'PHYS'), (274, 'HS'), (272, 'COSI'), (266, 'MUS'), (265, 'ENG')]\n"
     ]
    }
   ],
   "source": [
    "subjects=set(course[\"subject\"] for course in courses)\n",
    "top_courses=[tuple((len([course[\"enrolled\"] for course in courses if course[\"subject\"]==subject]),subject)) for subject in subjects]\n",
    "top_courses=sorted(top_courses, reverse=True)\n",
    "print(top_courses[:10])"
   ]
  },
  {
   "cell_type": "markdown",
   "metadata": {},
   "source": [
    "F) Do the same as (d) but print the top 10 subjects in terms of number of faculty teaching courses in that subject."
   ]
  },
  {
   "cell_type": "code",
   "execution_count": 11,
   "metadata": {},
   "outputs": [
    {
     "name": "stdout",
     "output_type": "stream",
     "text": [
      "[(87, 'HS'), (67, 'BIOL'), (52, 'ECON'), (49, 'BCHM'), (47, 'HIST'), (47, 'BUS'), (46, 'BCBP'), (42, 'HWL'), (37, 'NEJS'), (37, 'MATH')]\n"
     ]
    }
   ],
   "source": [
    "subjects=set(course[\"subject\"] for course in courses)\n",
    "top_courses=[tuple((len(set(course[\"instructor\"] for course in courses if course[\"subject\"]==subject)),subject)) for subject in subjects]\n",
    "top_courses=sorted(top_courses, reverse=True)\n",
    "print(top_courses[:10])"
   ]
  },
  {
   "cell_type": "markdown",
   "metadata": {},
   "source": [
    "G) List the top 20 faculty in terms of number of students they taught."
   ]
  },
  {
   "cell_type": "code",
   "execution_count": 12,
   "metadata": {},
   "outputs": [
    {
     "name": "stdout",
     "output_type": "stream",
     "text": [
      "['Leah Berkenwald', 'Kene Nathan Piasta', 'Stephanie Murray', 'Milos Dolnik', 'Maria de Boef Miara', 'Bryan Ingoglia', 'Rachel V.E. Woodruff', 'Timothy J Hickey', 'Daniel Breen', 'Melissa Kosinski-Collins', 'Claudia Novack', 'Antonella DiLillo', 'Jon Chilingerian', 'Ahmad Namini', 'Iraklis Tsekourakis', 'Geoffrey Clarke', 'Peter Mistark', 'Brenda Anderson', 'Colleen Hitchcock', 'Scott A. Redenius']\n"
     ]
    }
   ],
   "source": [
    "instructors=set(course[\"instructor\"] for course in courses)\n",
    "top_instructors=[(sum(course[\"enrolled\"] for course in courses if course[\"instructor\"]==instructor),(instructor[0]+\" \"+instructor[1]))for instructor in instructors]\n",
    "top_instructors=sorted(top_instructors,reverse=True)[:20]\n",
    "print([name[1] for name in top_instructors])"
   ]
  },
  {
   "cell_type": "markdown",
   "metadata": {},
   "source": [
    "H) List the top 20 courses in terms of number of students taking that course (where you combine different sections and semesters, i.e. just use the subject and course number)."
   ]
  },
  {
   "cell_type": "code",
   "execution_count": 23,
   "metadata": {},
   "outputs": [
    {
     "name": "stdout",
     "output_type": "stream",
     "text": [
      "['HWL 1', 'HWL 1-PRE', 'BIOL 14A', 'COSI 10A', 'PSYC 10A', 'BIOL 15B', 'MATH 10A', 'BIOL 18B', 'BIOL 18A', 'CHEM 29A', 'CHEM 29B', 'CHEM 25A', 'PSYC 51A', 'CHEM 25B', 'COSI 12B', 'BUS 6A', 'CHEM 18A', 'ECON 10A', 'MATH 15A', 'COSI 21A', 'ANTH 1A', 'CHEM 11A', 'BUS 10A', 'BIOL 16A', 'CHEM 18B', 'BIOL 42A', 'CHEM 11B', 'SOC 1A', 'ECON 20A', 'HS 104B', 'EL 35A', 'COSI 131A', 'ECON 80A', 'ECON 83A', 'ECON 184B', 'COSI 164A', 'BUS 120A', 'ECON 82B', 'ECON 2A', 'LGLS 10A', 'BUS 71A', 'ENVS 2A', 'PSYC 52A', 'HISP 32A', 'HWL 41', 'HSSP 100B', 'BUS 152A', 'NPSY 199A', 'MATH 10B', 'POL 15A', 'BUS 215F', 'PHYS 10A', 'MATH 20A', 'BUS 297A', 'PSYC 34B', 'PHYS 18A', 'BUS 224G', 'PHYS 10B', 'HSSP 110A', 'PHYS 18B', 'HWL 40', 'ECON 28B', 'PSYC 32A', 'BCHM 100A', 'BUS 211F', 'IGS 10A', 'FIN 201A', 'PHIL 6A', 'BIOL 350A', 'BCHM 88B', 'COSI 29A', 'PHIL 1A', 'BUS 216F', 'PSYC 33A', 'PSYC 31A', 'MATH 23B', 'HS 491G', 'BIOL 51A', 'WGS 5A', 'SOC 83A', 'HS 489B', 'BIOL 43B', 'BIOL 350B', 'SOC 84A', 'HS 801G', 'HS 297F', 'MATH 36A', 'COSI 130A', 'ECON 213A', 'MATH 8A', 'HS 250A', 'FA 3A', 'HIST 80A', 'COSI 114A', 'NEUR 401D', 'ECON 171A', 'BUS 212A', 'UWS 16A', 'PHIL 113B', 'MATH 37A', 'HS 251B', 'HS 215B', 'POL 10A', 'IGS 8A', 'HS 404B', 'PSYC 15A', 'PHYS 11A', 'BUS 256A', 'PHIL 126A', 'NBIO 140B', 'HS 285A', 'BUS/FIN 241A', 'SOC 155B', 'PHYS 19A', 'HS 253B', 'FIN 232A', 'RUCD 101', 'HS 252B', 'ED 294', 'LGLS 116B', 'UWS 34A', 'ENG 20A', 'ECON 25A', 'BUS 240F', 'HS 110A', 'CLAS 133A', 'HS 299B', 'HISP 20B', 'BUS 51A', 'BUS 135A', 'PSYC 36B', 'HS 258A', 'HS 225A', 'HS 248B', 'CHEM 15A', 'MATH 35A', 'BUS 130A', 'HISP 104B', 'FIN 261A', 'PHYS 19B', 'LING 100A', 'LGLS 124B', 'FIN 212A', 'BIOL 401D', 'BIOL 107A', 'RPJM 101', 'RCOM 202', 'HS 490G', 'HS 232A', 'FIN 270A', 'CHEM 300C', 'CHEM 19A', 'NBIO 306A', 'NBIO 146A', 'HS 278F', 'COSI 121B', 'BIOL 132A', 'JAPN 10A', 'FA 34A', 'PHIL 17A', 'MATH 36B', 'ECON/FIN 250A', 'COMP 1A', 'CHIN 130B', 'HWL 26', 'HS 405A', 'HS 290A', 'HS 249F', 'ECON 26B', 'ECON 172B', 'PHIL 131A', 'HIST 80B', 'FIN 242F', 'BIOL 42B', 'SOC 104A', 'POL 105A', 'NBIO 306B', 'COSI 123A', 'HISP 34A', 'BCBP 401D', 'UWS 2B', 'UWS 12B', 'PHIL 123B', 'FIN 217F', 'CHEM 401D', 'BUS 294A', 'BUS 259F', 'ANTH 5A', 'UWS 37A', 'UWS 17B', 'HSSP 89A', 'HS 263F', 'HS 246B', 'HS 244A', 'HISP 105A', 'CHEM 15B', 'UWS 43A', 'PHYS 11B', 'MATH 121A', 'HWL 15', 'ENG 128A', 'EL 94A', 'HIST 160A', 'FIN 285A', 'FIN 202A', 'AAPI/WGS 137B', 'AAAS 155B', 'UWS 43B', 'SOC 10B', 'MATH 40A', 'HS 279A', 'CHEM 19B', 'ANTH 121B', 'RMGT 110', 'PSYC 38A', 'PSYC 169B', 'HWL 14', 'COSI 149B', 'HWL 42', 'HS 235F', 'ECON 207A', 'COSI 102A', 'THA 15B', 'POL 11B', 'MATH 16B', 'LGLS 189A', 'LGLS 138B', 'HWL 48', 'COSI 400D', 'BIOL 50B', 'PSYC 316A', 'NPSY 22B', 'MUS 5A', 'HS 326F', 'HS 236A', 'CHIN 30A', 'AAAS 5A', 'THA 23A', 'POL 14B', 'HISP 106B', 'ENG 30B', 'COSI 118A', 'CAST 125A', 'BIOL 305A', 'BIOL 100B', 'POL 129B', 'MATH 124A', 'HS 266A', 'FILM 100A', 'CLAS 170A', 'RDMD 102', 'NEJS 189A', 'HS 332A', 'HISP 111B', 'FIN 204A', 'ENVS 21B', 'BUS 297C', 'LING 197A', 'KOR 10A', 'HS 303A', 'HS 254A', 'CA 125A', 'NPSY 12A', 'MATH 126A', 'HWL 35', 'ENG 20B', 'ECON 399A', 'COMP 1B', 'BIOL 23A', 'AAPI/HIS 171A', 'PHIL 125B', 'JAPN 20B', 'INT 92G', 'HWL 12', 'HS 239F', 'HBRW 34A', 'FIN 280A', 'ENG 180B', 'ECON 57A', 'COSI 166B', 'CLAS 190B', 'BUS 172A', 'ANTH 140B', 'ANTH 138A', 'RDMD 110', 'HWL 27', 'HSSP 106A', 'HS 319F', 'HS 247F', 'HS 230A', 'FIN 218F', 'ENG 42A', 'CHIN 106B', 'BIOL 305B', 'BIOL 101A', 'ANTH 340A', 'WGS 151A', 'THA 10A', 'PHYS 15B', 'HS 532B', 'HS 529A', 'HS 343F', 'HS 294F', 'HS 236F', 'FIN 231F', 'ECON 76B', 'ECON 202A', 'COSI 152A', 'MUS 10B', 'MATH 5A', 'JAPN 30A', 'FREN 32A', 'ANTH 136A', 'ANTH 116A', 'UWS 6B', 'UWS 23B', 'RUCD 120', 'PHIL 136A', 'HS 800G', 'HIST 142A', 'FIN 240A', 'ENVS 36B', 'BUS 276A', 'ANTH 142B', 'AAAS/WGS 136A', 'UWS 32A', 'UWS 22A', 'MUS 3B', 'HSSP 114B', 'HS 349F', 'HS 252F', 'HIST 56B', 'FA 7A', 'ENG 120A', 'ED 175A', 'ECON 69A', 'BUS 252A', 'UWS 20B', 'THA 16B', 'POL 160A', 'PHIL 143A', 'LGLS 89A', 'HS 262F', 'HS 227F', 'HBRW 20B', 'FA 4A', 'ECON 55A', 'COSI 143B', 'COSI 114B', 'ANTH 61B', 'MUS 1A', 'MUS 101A', 'HS 603C', 'HS 481B', 'HS 480B', 'HS 465A', 'HS 463A', 'HS 458A', 'HS 453B', 'HS 452B', 'HS 451B', 'HS 450A', 'HS 229F', 'HS 204F', 'FIN 293A', 'FA 42B', 'FA 30A', 'EL 50A', 'COSI 132A', 'BUS 260A', 'BUS 257F', 'BUS 255A', 'WGS 6B', 'RPJM 113', 'PHYS 401B', 'PHIL 111A', 'KOR 20B', 'HS 472B', 'HS 341A', 'HS 228B', 'FA 110B', 'ENVS 42B', 'ED 170A', 'CHIN 105A', 'BUS 117A', 'ANTH 127A', 'AAAS/WGS 152B', 'SOC 129A', 'QR 10A', 'PSYC 126A', 'POL 52A', 'NBIO 142B', 'LGLS 161B', 'HWL 37', 'HS 477B', 'HS 475A', 'HS 468A', 'HS 467B', 'HS 462B', 'HS 457A', 'HS 447A', 'HS 442A', 'HS 441A', 'HS 289F', 'HS 230F', 'HS 210F', 'HS 210A', 'HISP 10A', 'FA 46B', 'FA 3B', 'FA 110A', 'ENG 38A', 'COSI 101A', 'SOC 46B', 'RSAN 101', 'PSYC 91G', 'POL 192B', 'PHYS 401A', 'PHYS 20A', 'PHIL 133B', 'PHIL 106B', 'NEJS 160B', 'NBIO 147A', 'MUS 111B', 'MUS 102A', 'LGLS 141B', 'IGS 171A', 'HS 604C', 'HS 513A', 'HS 336A', 'HS 218A', 'HS 201A', 'HIST 401D', 'HIST 175B', 'HIST 147B', 'FIN 237F', 'FA 71B', 'ENG 177A', 'ENG 142B', 'ECON 65B', 'COSI 119A', 'CHIN 136B', 'BUS 227A', 'BIOL 160B', 'BCHM 101A', 'ANTH 164A', 'ANTH 156A', 'WGS 166A', 'POL 101A', 'PHIL 23B', 'NEJS 184B', 'MUS 101B', 'LING 130A', 'LING 120B', 'LGLS 123B', 'IGS 138A', 'HWL 9', 'HS 422F', 'HIST 184A', 'HIST 103A', 'HISP 158A', 'FREN 105A', 'FA 4B', 'FA 11B', 'ENVS 19B', 'CHIN 20B', 'CHIN 100A', 'CHEM 33A', 'BUS 262A', 'BCHM 104B', 'ANTH 130B', 'AAAS/HIS 154B', 'THA 120A', 'SOC 119A', 'RSAN 140', 'RSAN 120', 'RDMD 135', 'IGS 130A', 'HS 518A', 'HS 402F', 'HS 372B', 'FREN 10A', 'BUS/ECON 265A', 'BUS 228B', 'BIOL 105B', 'ANTH 180B', 'REL 151A', 'REL 107A', 'MUS 111A', 'MUS 102B', 'HS 283F', 'HIST 182B', 'FA 33B', 'FA 11A', 'ENG 40B', 'ED 163B', 'ED 161B', 'CHIN 10A', 'CHEM 69A', 'BUS 253A', 'BISC 5B', 'BIOL 128A', 'BIOL 112B', 'BIBC 126B', 'ANTH/WGS 176A', 'ANTH 158A', 'SOC 130A', 'RUCD 130', 'RPJM 119', 'RBIF 102', 'RBIF 100', 'NBIO 143B', 'MATH 28B', 'LGLS 114A', 'LALS 152A', 'JOUR 109B', 'HWL 55', 'HWL 47', 'HSSP 182A', 'HSSP 118B', 'HS 534B', 'HS 342B', 'HS 330F', 'HS 312F', 'HIST 153B', 'HISP 193B', 'HISP 155A', 'HBRW 10A', 'FREN 20B', 'FA 59A', 'ENVS 39B', 'ENG 101A', 'ED 291', 'ED 251', 'ECON 181B', 'ECON 134B', 'BUS 291G', 'BUS 160A', 'BUS 125A', 'BIOL 72A', 'ANTH 105A', 'THA 120B', 'PSYC 178B', 'PSYC 160B', 'POL/WGS 125A', 'PHYS 15A', 'NEJS 164A', 'NEJS 162B', 'LING 150A', 'LGLS 140B', 'JAPN 40B', 'HSSP 192B', 'HS 307A', 'HS 306F', 'HS 303F', 'HS 297A', 'HS 291F', 'HS 277F', 'HS 221F', 'HIST 52B', 'HIST 173A', 'FIN 271A', 'ENG 119A', 'ED 259', 'ED 256', 'ECON 150B', 'BUS 235F', 'BUS 114A', 'BIOL 159A', 'BCHM 103B', 'ANTH 80A', 'ANTH 165B', 'SOC 40A', 'RUCD 170', 'POL 148B', 'NPSY 141A', 'NEJS 169B', 'MATH 401D', 'LGLS 129A', 'ITAL 30A', 'HWL 57', 'HWL 49', 'HSSP 107B', 'HS 353A', 'HS 340F', 'HS 242F', 'FA 9A', 'FA 27B', 'FA 180A', 'FA 12B', 'ENVS 49A', 'ENG 27B', 'ECON 30A', 'BIOL 53A', 'BIOL 102B', 'ANTH 81A', 'ANTH 159A', 'AAAS/WGS 125A', 'THA 144B', 'THA 11B', 'THA 110A', 'SOC 194A', 'SOC 162A', 'RPJM 103', 'RDMD 120', 'PAX 120B', 'MUS 401D', 'JOUR 130B', 'HUM/UWS 1A', 'HSSP 135A', 'HSSP 102A', 'HS 448F', 'HS 256F', 'HS 223F', 'HS 203F', 'HRNS 350B', 'HIST 50B', 'HIST 181B', 'HIST 179B', 'FREN 104B', 'FIN 225F', 'FA 30B', 'FA 197A', 'ENVS 107B', 'ENG 79A', 'ENG 73A', 'ENG 109A', 'ED 120A', 'CHIN 40B', 'CHEM 121A', 'CBIO 101A', 'AMST/MUS 55A', 'AMST/ENG 167B', 'AMST 177B', 'AAAS 125B', 'SOC 116B', 'POL 340D', 'NBIO 80B', 'MUS 48B', 'LING 110A', 'LING 105A', 'LGLS 149B', 'ITAL 20B', 'HS 605C', 'HS 413F', 'HS 336F', 'HS 285F', 'HS 257F', 'HS 218F', 'HS 211F', 'HRNS 297A', 'HIST/WGS 120B', 'HIST 109B', 'HISP 164B', 'ENG 1A', 'ENG 188B', 'ED 265B', 'ED 165A', 'ECON 161A', 'ECON 160A', 'ECON 155B', 'COSI 140B', 'COSI 134A', 'CLAS 155A', 'CHIN 120B', 'BUS 111A', 'BIOL 39B', 'BIOL 125A', 'ANTH 151B', 'AMST 106B', 'SOC 81A', 'SOC 151B', 'SOC 133B', 'RUCD 150', 'RUCD 140', 'RMGT 160', 'PSYC 155A', 'POL 120B', 'POL 119A', 'POL 116B', 'NPSY 64A', 'MUS 84B', 'MUS 81A', 'KOR 30A', 'JOUR 152A', 'JOUR 113A', 'ITAL 10A', 'HS 238F', 'HS 228A', 'HS 225F', 'HIST 71A', 'HIST 185B', 'HIST 159B', 'HIST 144B', 'HIST 131A', 'HISP 160A', 'FIN 263A', 'FIN 247A', 'FIN 236F', 'FA 8A', 'ENG 11A', 'ED 265A', 'ED 263B', 'ED 260B', 'ED 258', 'ED 253', 'ED 150B', 'COSI 293G', 'COSI 153A', 'CLAS/NEJ 118A', 'CHSC 3B', 'CAST 150B', 'BUS 258F', 'BIOL 81B', 'BIOL 236B', 'BIOL 205A', 'AMST 30B', 'AAAS/HIS 131A', 'RPJM 110', 'RECS 150A', 'PSYC 99D', 'POL 128A', 'PHIL 162B', 'PHIL 128B', 'NPSY 180A', 'NEUR 91G', 'NBIO 148B', 'MUS 88B', 'MUS 84A', 'MATH 3A', 'JAPN 105A', 'HS 302F', 'HS 292F', 'HS 205F', 'HRNS 247A', 'HIST 176A', 'FA 5B', 'FA 165A', 'ENVS 18B', 'ENG 176B', 'ENG 111B', 'ED 266B', 'ED 264A', 'ED 260A', 'ED 173B', 'ED 157B', 'ED 100B', 'ECON 175A', 'BUS 272A', 'BUS 222F', 'BUS 219F', 'BIOL 214C', 'BIOL 213B', 'BIOL 212B', 'BIOL 206D', 'BCHM 104A', 'ANTH 144A', 'AMST 166B', 'AMST 136A', 'UWS 5A', 'UWS 48A', 'UWS 3A', 'UWS 1B', 'THA 66A', 'THA 150A', 'RSAN 110', 'RPJM 117', 'RDMD 130', 'POL 54A', 'POL 170A', 'POL 133B', 'POL 113B', 'PHIL 146A', 'PHIL 137A', 'NPSY 182A', 'NPSY 176B', 'MUS 88A', 'MUS 81B', 'MATH 115A', 'LALS 1A', 'HS 346F', 'HS 328F', 'HS 267F', 'HRNS 380A', 'HRNS 246A', 'HIST 134B', 'HIST 112B', 'GER 30A', 'FREN 106B', 'FIN 213A', 'FA 80A', 'FA 48A', 'FA 119B', 'ENG 33A', 'ED 267A', 'ED 266A', 'ECS/ENG 110A', 'ECON 173A', 'COSI 210A', 'COSI 190A', 'CLAS/ENG 153B', 'CHEM 130A', 'BIOL 99A', 'ANTH 7A', 'ANTH 113B', 'AMST 135A', 'AMST 100A', 'UWS 7A', 'UWS 24A', 'THA 40A', 'SOC 187A', 'SOC 146A', 'POL 53B', 'POL 186B', 'POL 134B', 'NEJS 166A', 'NEJS 160A', 'MUS 131A', 'MATH 110A', 'JOUR 13A', 'JOUR 137B', 'HWL 60', 'HWL 10', 'HS 311F', 'HS 251F', 'HS 224F', 'HS 216F', 'HS 200F', 'GER 10A', 'FILM 110A', 'FA 16B', 'ESL 201G', 'ENG 62B', 'ENG 156A', 'ENG 131B', 'ED 75B', 'ECON/FIN 209A', 'ECON 286A', 'COSI 165B', 'COSI 139B', 'BUS 296A', 'BUS 254A', 'BIOL 91G', 'ANTH 55A', 'ANTH 161A', 'ANTH 152A', 'ANTH 112B', 'AMST 35A', 'AMST 129A', 'WGS 182B', 'WGS 171A', 'THA 22B', 'SOC 36B', 'SOC 300A', 'RSAN 175', 'RSAN 130', 'QBIO 11A', 'POL 56A', 'PHIL 134B', 'PHIL 114B', 'NPSY 120B', 'NEJS 171B', 'JAPN 105B', 'HWL 6', 'HS 416A', 'HS 367A', 'HS 335F', 'HRNS 237B', 'HISP 163B', 'GER 20B', 'FA 118A', 'ENG 147A', 'CLAS 115B', 'CHEM 132B', 'BUS/ECON 250G', 'BIOL 99B', 'BCHM 102A', 'ANTH 178B', 'AMST 50B', 'AMST 100B', 'AAPI/HIS 163A', 'WGS 105B', 'THA 125A', 'THA 101A', 'RSAN 160', 'RPJM 130', 'QBIO 24B', 'POL 400D', 'POL 144A', 'NPSY 197A', 'NPSY 16A', 'MUS 87B', 'MUS 82A', 'MUS 112B', 'LING 173A', 'LING 125B', 'LGLS 145A', 'JOUR 110B', 'JOUR 107B', 'HWL 25', 'HS 243F', 'HS 241F', 'HS 240F', 'HIST/SOC 170B', 'HIST 121A', 'FREN 111A', 'FILM 120A', 'FILM 110B', 'FA 169A', 'FA 166B', 'ENG 64A', 'ENG 42B', 'ENG 127A', 'ED 175B', 'COSI 233A', 'COSI 137B', 'CHEM 240B', 'CHEM 160A', 'AMST/ENG 47A', 'AAAS 159A', 'WGS 128B', 'UWS 10A', 'THA 2A', 'THA 105A', 'SAS 100A', 'RUCD 160', 'RIDT 101', 'RECS/THA 140A', 'POL 161B', 'NPSY 17A', 'NEJS 37A', 'NEJS 138A', 'MUS 112A', 'MATH 108B', 'LGLS 125B', 'HUM/UWS 4A', 'HSSP 160A', 'HS 508A', 'HS 315F', 'HS 264F', 'HIST 158A', 'HBRW 44B', 'FA 58A', 'ESL 203G', 'ENG 173A', 'ENG 119B', 'ED 301A', 'ECON 260A', 'ECON 122B', 'COSI 120A', 'COML 100A', 'CHIN 165A', 'CHEM 230B', 'CHEM 142A', 'CHEM 141A', 'BUS 261A', 'BUS 153A', 'BISC 10B', 'BIOT 201B', 'ANTH 119A', 'RMGT 103', 'RBOT 240', 'POL 184A', 'POL 177B', 'POL 163A', 'PHYS 40A', 'PHYS 163A', 'PHYS 108B', 'MUS 135A', 'MATH 22B', 'MATH 151A', 'LING 160B', 'LING 115A', 'IMES 104A', 'IGS 99D', 'HSSP 99D', 'HS 607C', 'HS 507F', 'HS 338A', 'HS 322B', 'HS 234F', 'HIST 196A', 'HIST 185A', 'HIST 179A', 'FIN 292A', 'FIN 252A', 'FIN 216F', 'FA 156B', 'ENG 28A', 'ENG 19A', 'ENG 18A', 'ENG 149A', 'ENG 127B', 'ED 302B', 'ED 286', 'ECON 99A', 'ECON 270A', 'COSI 217B', 'COSI 175A', 'CHIN 120A', 'CHEM 91G', 'BUS 298A', 'BUS 232F', 'BIOL 131B', 'BCHM 99B', 'ARBC 30A', 'ARBC 10A', 'ANTH 203B', 'AAS/AAPI 129B', 'AAAS 157A', 'AAAS 145B', 'WGS 208B', 'WGS 205A', 'THA 71A', 'THA 125B', 'THA 11A', 'RUS 39B', 'RBOT 210', 'RBIF 111', 'POL 141A', 'PHYS 162A', 'PHYS 161A', 'NEJS 3A', 'MUS 82B', 'MATH 141B', 'MATH 141A', 'LING 190B', 'LAT 10A', 'JAPN 125B', 'HSSP 40A', 'HS 602C', 'HS 358F', 'HS 357F', 'HS 347A', 'HS 334A', 'HS 317F', 'HS 290F', 'HS 231B', 'HIST 66A', 'HIST 152B', 'HIST 147A', 'FIN 234A', 'FA 13A', 'ESL 205G', 'ENG 19B', 'ENG 159A', 'ENG 139B', 'ENG 136A', 'ED 285', 'ED 279A', 'ED 100A', 'ECON 142B', 'CHIN 105B', 'CHEM 99D', 'BUS 295A', 'BUS 281F', 'BUS 279F', 'BIOL 26A', 'BCHM 99A', 'ANTH 163A', 'AAAS 99D', 'RUS 29B', 'RUS 150B', 'RIDT 110', 'RBIF 114', 'QBIO 110A', 'PSYC 210A', 'PSYC 161B', 'PSYC 161A', 'PSYC 136B', 'POL 156B', 'PHYS 31A', 'PHYS 30A', 'PHYS 280B', 'PHYS 100A', 'PHIL 144A', 'NPSY 170A', 'NEJS 6A', 'NEJS 144A', 'NBIO 340A', 'MUS 292A', 'MUS 116A', 'MATH 131A', 'JOUR 104A', 'ITAL 128A', 'IGS 120A', 'HWL 2', 'HS 511B', 'HS 360F', 'HS 257B', 'HIST 201A', 'HBRW 164B', 'HBRW 152B', 'GER 103A', 'FREN 110A', 'FIN 254A', 'FA 14A', 'ESL 206G', 'ENG 180A', 'ENG 170B', 'ENG 144B', 'CLAS 144B', 'CHIN 126A', 'CHEM 135A', 'ANTH 118B', 'THA 70A', 'THA 199A', 'THA 138A', 'THA 126B', 'SOC 220A', 'RUS 30A', 'RUCD 190', 'RUCD 180', 'RSEG 128', 'RPJM 118', 'RIDT 130', 'RIDT 120', 'RHIN 110', 'RDMD 160', 'PHYS 29A', 'PHYS 213A', 'PHYS 164A', 'NEJS 181A', 'NEJS 111A', 'MUS 87A', 'MUS 85A', 'MUS 83A', 'MATH 204A', 'MATH 131B', 'LAT 20B', 'KOR 40B', 'ITAL 134B', 'IIM 99D', 'HWL 8', 'HS 406F', 'HS 354A', 'HS 305F', 'HS 237F', 'HRNS 399A', 'HRNS 234F', 'HISP 198A', 'GECS 188B', 'FREN 153A', 'FREN 142B', 'FIN 288A', 'FA 27A', 'FA 24A', 'FA 14B', 'ENG 360C', 'ENG 139A', 'ECON 99B', 'ECON 135A', 'COSI 99D', 'COSI 293B', 'COSI 159A', 'CHEM 134B', 'BIOL 221A', 'BIOL 220A', 'BIOL 213A', 'BIOL 212A', 'BIOL 211B', 'BIOL 211A', 'BIOL 207A', 'BIOL 205B', 'BIOL 204B', 'BIOL 203A', 'BIOL 202D', 'BIOL 202B', 'BCBP 230B', 'ARBC 20B', 'ANTH 257B', 'ANTH 207B', 'YDSH 10A', 'WGS 89A', 'THA 21B', 'RUS 115B', 'RUCD 185', 'RSEG 127', 'RPJM 115', 'RIDT 165', 'RHIN 160', 'RDFT 160', 'RBOT 225', 'RBIF 115', 'RBIF 112', 'PSYC 400D', 'PSYC 216A', 'PSYC 211A', 'POL 99A', 'POL 93A', 'POL 148A', 'PHYS 39A', 'PHYS 31B', 'NEUR 99B', 'NEUR 99A', 'NEUR 300B', 'NEUR 300A', 'NEJS 173A', 'NEJS 124B', 'NEJS 110B', 'NEJS 10A', 'MUS 292B', 'MUS 175A', 'MUS 116B', 'MUS 107A', 'MATH 290A', 'MATH 140A', 'LAT 30A', 'HWL 51', 'HWL 23', 'HUM 10A', 'HS 510A', 'HS 505F', 'HS 410A', 'HS 339F', 'HS 324A', 'HRNS 230A', 'HIST 340A', 'HBRW 19A', 'HBRW 167B', 'HBRW 146A', 'FA 23B', 'ENG 148B', 'ENG 144A', 'ECON 288A', 'ECON 176A', 'COSI 98A', 'COSI 241A', 'CLAS 92A', 'BUS 278F', 'BUS 231A', 'BIOL 216B', 'ARBC 103A', 'ANTH 206B', 'THA 148B', 'SOC 82A', 'RIAS 180', 'RIAS 140', 'RHIN 125', 'RHIN 115', 'RDFT 101', 'PSYC 302A', 'POL 212A', 'PHYS 162B', 'PHIL 299A', 'NEJS 192B', 'NEJS 148A', 'NEJS 123A', 'NBIO 340B', 'MUS 221A', 'MUS 190A', 'MUS 106A', 'MATH 221A', 'MATH 211A', 'MATH 203A', 'MATH 151B', 'MATH 100A', 'LAT 121B', 'LAT 118A', 'JAPN 140A', 'ITAL 105A', 'HWL 19', 'HWL 17', 'HS 411B', 'HS 403B', 'HS 401B', 'HS 337F', 'HS 296B', 'HRNS 260F', 'HIST 99D', 'GRK 30A', 'FREN 139A', 'FIN 203A', 'FILM 99D', 'FA 199A', 'ENG 350A', 'ENG 201A', 'ED 107A', 'ECON 301A', 'COSI 45A', 'COML 150B', 'CLAS 145B', 'CHEM 161A', 'BUS 230A', 'BIOL 152B', 'BIOL 151A', 'ARBC 40B', 'ARBC 103B', 'ANTH 123B', 'AAAS 124A', 'THA 99B', 'THA 99A', 'SOC 228B', 'SOC 204A', 'SOC 153A', 'SJSP 89A', 'RSEG 105', 'RSAN 150', 'RIAS 175', 'RIAS 150', 'RHIN 120', 'RDFT 120', 'RDFT 110', 'RBOT 230', 'RBIF 120', 'RBIF 109', 'PSYC 210B', 'POL 99B', 'POL 215A', 'PHYS 161B', 'PHYS 112A', 'PHIL 99A', 'NEUR 296A', 'NEJS 177A', 'NEJS 174B', 'MUS 86B', 'MUS 86A', 'MUS 80A', 'MUS 218B', 'MUS 216A', 'MUS 133B', 'MUS 104B', 'MUS 104A', 'MUS 103B', 'MUS 103A', 'MATH 22A', 'MATH 164A', 'MATH 140B', 'LING 195A', 'JOUR 138B', 'INT 89B', 'IGS 92A', 'HWL 38', 'HS 426F', 'HS 409A', 'HS 407B', 'HS 300F', 'HIST 205B', 'HISP 108A', 'GRK 10A', 'GER 109B', 'GER 106B', 'FIN 282F', 'FIN 253A', 'ENG 99D', 'ENG 96D', 'ENG 253B', 'ENG 168B', 'ED 279B', 'ED 267B', 'ED 262A', 'ED 102A', 'ED 101A', 'ECS 100B', 'ECON 303A', 'ECON 261A', 'COSI 393G', 'CHEM 199D', 'BUS 293A', 'BISC 2A', 'BIOT 212A', 'BIOL 163B', 'ANTH 131B', 'YDSH 20B', 'THA 42A', 'SOC 217A', 'RUS 10A', 'RSEG 176', 'RSEG 126', 'RSEG 120', 'RSEG 102', 'RMGT 290', 'RMGT 102', 'RIAS 125', 'RIAS 115', 'RHIN 180', 'RHIN 170', 'RHIN 130', 'QBIO 120B', 'PSYC 250B', 'PSYC 148A', 'PSYC 140A', 'POL 167B', 'PHYS 280A', 'PHIL 99B', 'PHIL 231A', 'PHIL 214A', 'PHIL 139B', 'NEJS 247B', 'NEJS 236A', 'NEJS 158B', 'NEJS 149A', 'NBIO 208A', 'NBIO 207A', 'MUS 56B', 'MUS 37B', 'MUS 224B', 'MUS 219A', 'MUS 192A', 'MUS 172B', 'MUS 117B', 'MUS 117A', 'MATH 203B', 'MATH 180B', 'MATH 102A', 'JAPN 145A', 'HS/POL 220A', 'HS 572A', 'HS 414F', 'HS 365A', 'HS 272A', 'HIST 340B', 'HIST 200A', 'GRK 20B', 'GRK 120B', 'FREN 186B', 'FREN 162B', 'FA 45A', 'FA 28A', 'ENG 68B', 'ENG 247A', 'ENG 117B', 'CLAS 200A', 'BUS 237F', 'BUS 225A', 'BUS 118A', 'BIOL 296A', 'BIOL 156A', 'BCBP 300B', 'BCBP 300A', 'BCBP 240A', 'BCBP 200B', 'YDSH 30A', 'SOC 230A', 'RSEG 181', 'RSAN 290', 'RSAN 177', 'RHIN 185', 'RECS 152A', 'RECS 131A', 'PSYC 241A', 'PSYC 239A', 'POL 214A', 'PHYS 99D', 'PHYS 91G', 'PHYS 213B', 'PHYS 102A', 'PHIL 200A', 'NEJS 129B', 'MUS 85B', 'MUS 162B', 'MATH 200A', 'HWL 67', 'HWL 53', 'HWL 3', 'HS 777A', 'HRNS 298A', 'HIST 300E', 'HIST 225B', 'HIST 209B', 'GRK 115B', 'FIN 279A', 'FILM 130B', 'ENG 99B', 'ENG 126B', 'EL 65A', 'ED 231A', 'ECON 304A', 'ECON 302A', 'EAS 99D', 'COSI 138A', 'BUS 297G', 'BISC 11A', 'BIOT 203B', 'BIOL 93A', 'BIOL 300B', 'BIOL 300A', 'BCHM 150B', 'BCHM 150A', 'ARBC 106A', 'ANTH 99A', 'ANTH 297A', 'ANTH 215B', 'ANTH 147B', 'AMST 131B', 'AAAS 189A', 'YDSH 40B', 'SOC 148B', 'RUS 40B', 'RSEG 131', 'RSEG 109', 'RMGT 101', 'RIDT 180', 'RIAS 101', 'RECS 154A', 'RBIF 110', 'PSYC 93A', 'POL 349A', 'NEJS 85A', 'NEJS 259A', 'NEJS 206A', 'MUS 83B', 'MUS 193B', 'MATH 223A', 'MATH 100B', 'JAPN 120B', 'INT 89A', 'HS 526A', 'HS 394F', 'HS 390A', 'HIST 301D', 'FIN 298A', 'ENG 220A', 'ENG 200A', 'ED 92A', 'ECON 311A', 'COSI 98B', 'COSI 295A', 'CLAS 99D', 'CLAS 98B', 'CHEM 200B', 'CAST 189A', 'BUS 292A', 'BIPH 99D', 'BIOT 293A', 'BIOL 199A', 'ARBC 106B', 'ANTH 99B', 'ANTH 244A', 'ANTH 211A', 'AMST 99D', 'AAPI/WGS 30A', 'WGS 98B', 'WGS 92A', 'THA 47A', 'THA 45A', 'RUS 20B', 'RSEG 155', 'RIDT 150', 'RIAS 102', 'PSYC 92A', 'PSYC 313B', 'PSYC 250A', 'PSYC 242A', 'PSYC 221A', 'PHYS 202A', 'NEUR 298A', 'NEUR 199A', 'NEJS 5A', 'NEJS 130B', 'MUS 80B', 'MUS 299B', 'MUS 299A', 'JAPN 120A', 'IIM 98A', 'HS 777F', 'HRNS 351A', 'HIST 173B', 'HIST 118A', 'FA 99A', 'FA 98A', 'ENVS 99B', 'ENVS 99A', 'ENG 96A', 'ENG 352B', 'ENG 352A', 'ENG 251B', 'ED 298A', 'COSI 300A', 'COSI 299A', 'CLAS 299A', 'CHIN 201A', 'CHEM 94A', 'CAST 181B', 'BUS 99B', 'BUS 99A', 'BUS 98B', 'BIOL 199B', 'WGS 99B', 'WGS 99A', 'WGS 299B', 'SOC 98A', 'SOC 93A', 'SOC 230B', 'RSEG 103', 'RDFT 130', 'RBOT 281', 'RBOT 280', 'PSYC 245A', 'PSYC 240B', 'PSYC 234A', 'PSYC 233A', 'POL 302B', 'PAX 98A', 'PAX 92A', 'NEUR 299A', 'NEUR 199B', 'NEJS 99D', 'NEJS 321A', 'NEJS 296A', 'NEJS 126B', 'NEJS 125B', 'MUS 298A', 'MATH 99B', 'MATH 99A', 'MATH 399A', 'MATH 299A', 'MATH 202A', 'HS 521A', 'HS 492F', 'HS 394A', 'HS 392A', 'HS 391A', 'HS 390F', 'HRNS 342A', 'HIST 98B', 'FA 99B', 'FA 98B', 'FA 96B', 'ENVS 97A', 'ENG 99A', 'ECS 99D', 'ECON 98B', 'ECON 298A', 'COSI 93A', 'COSI 200B', 'CLAS 298A', 'BUS 98A', 'BUS 298F', 'BUS 200A', 'BIOT 299B', 'BIOL 98B', 'ANTH 98B', 'ANTH 185A', 'WGS 299A', 'THA 97A', 'THA 48A', 'SOC 99B', 'SOC 99A', 'SOC 98B', 'SOC 92A', 'RUS 99A', 'RDFT 190', 'PSYC 313A', 'PSYC 226A', 'POL 99D', 'POL 302A', 'PHYS 169B', 'PHYS 168B', 'PHIL 97A', 'PHIL 298A', 'NEUR 98B', 'NEJS 98B', 'NEJS 98A', 'NEJS 92A', 'NEJS 319A', 'NEJS 313B', 'NEJS 303A', 'NEJS 299A', 'NEJS 298A', 'NEJS 295A', 'MUS 98A', 'MUS 97A', 'MUS 118B', 'MUS 118A', 'MATH 300A', 'LGLS 98B', 'KOR 98B', 'JOUR 98A', 'JOUR 92B', 'HSSP 92A', 'HS 392F', 'HS 391F', 'HS 231F', 'HRNS 355A', 'HRNS 343F', 'HRNS 334A', 'HIST 320B', 'HIST 320A', 'GER 98B', 'GER 98A', 'FILM 98B', 'FILM 98A', 'FILM 92A', 'FA 96A', 'ENVS 98A', 'ENG 98B', 'ENG 98A', 'ENG 301A', 'ECON 398A', 'EBIO 98B', 'EAS 98B', 'EAS 98A', 'COSI 300B', 'CHIN 212B', 'CHIN 211A', 'CHIN 202B', 'CHEM 95B', 'CHEM 95A', 'CAST 98A', 'BUS 290A', 'BIOL 299A', 'BCHM 91G', 'BCBP 299A', 'BCBP 297B', 'BCBP 297A', 'ANTH 98A', 'ANTH 95A', 'ANTH 225B', 'ANTH 224B', 'ANTH 221A', 'AMST 98B', 'AMST 97B', 'AMST 121A', 'AAPI 92A', 'YDSH 98B', 'WGS 98A', 'WGS 298A', 'WGS 292A', 'THA 98B', 'THA 98A', 'THA 92A', 'THA 44A', 'THA 43A', 'THA 390B', 'THA 390A', 'SOC 401D', 'SOC 392A', 'SOC 294B', 'SOC 294A', 'SOC 292A', 'SJSP 98B', 'SAS 98A', 'RUS 99B', 'RUS 98B', 'RUS 98A', 'RUS 92A', 'REL 98B', 'REL 98A', 'REL 97B', 'REL 97A', 'PSYC 98B', 'PSYC 98A', 'PSYC 298A', 'PSYC 280A', 'PSYC 237B', 'PSYC 235A', 'PSYC 232A', 'PSYC 229A', 'PSYC 228A', 'PSYC 224A', 'PSYC 223A', 'PSYC 222A', 'PSYC 220A', 'POL 98B', 'POL 98A', 'POL 92A', 'POL 298A', 'PMED 201A', 'PHYS 98B', 'PHYS 98A', 'PHYS 97B', 'PHYS 97A', 'PHYS 93A', 'PHYS 92A', 'PHIL 98B', 'PHIL 98A', 'PAX 97A', 'NEUR 99E', 'NEUR 98A', 'NEUR 93A', 'NEUR 297A', 'NEJS 318A', 'NEJS 316B', 'NEJS 315A', 'NEJS 314B', 'NEJS 314A', 'NEJS 311A', 'NEJS 309A', 'NEJS 308B', 'NEJS 308A', 'NEJS 307A', 'NEJS 306A', 'NEJS 305B', 'NEJS 304A', 'NEJS 303B', 'NEJS 297A', 'MUS 99D', 'MUS 98B', 'MUS 97B', 'MUS 92B', 'MUS 92A', 'MERS 98B', 'MERS 98A', 'MATH 98B', 'MATH 98A', 'MATH 393G', 'MATH 298A', 'LING 99D', 'LING 98B', 'LING 98A', 'LGLS 98A', 'LAT 99D', 'LAT 98B', 'LAT 98A', 'LAT 97A', 'LAT 298A', 'LALS 99D', 'LALS 98B', 'LALS 98A', 'LALS 92A', 'KOR 98A', 'JOUR 98B', 'JAPN 98B', 'JAPN 98A', 'ITAL 98B', 'ITAL 98A', 'ITAL 97B', 'ITAL 97A', 'ITAL 92A', 'IMES 99B', 'IMES 99A', 'IMES 98B', 'IMES 98A', 'IIM 98B', 'IIM 92A', 'IGS 98B', 'IGS 98A', 'IGS 97B', 'IGS 97A', 'HSSP 98B', 'HSSP 98A', 'HS 425F', 'HS 217F', 'HRNS 390A', 'HRNS 358F', 'HRNS 357A', 'HRNS 356F', 'HRNS 354F', 'HRNS 353A', 'HRNS 352F', 'HRNS 349F', 'HRNS 348A', 'HRNS 347F', 'HRNS 346A', 'HRNS 344A', 'HRNS 341F', 'HRNS 340A', 'HRNS 339F', 'HRNS 338A', 'HRNS 335F', 'HRNS 333F', 'HRNS 332A', 'HRNS 329F', 'HRNS 328A', 'HRNS 299A', 'HOID 98B', 'HOID 98A', 'HIST 98A', 'HIST 92A', 'HIST 302A', 'HISP 99B', 'HISP 98B', 'HISP 98A', 'HISP 92A', 'HBRW 98B', 'HBRW 98A', 'HBRW 97B', 'HBRW 97A', 'GS 301A', 'GS 204A', 'GRK 99D', 'GRK 98B', 'GRK 98A', 'GRK 97A', 'GRK 298A', 'GER 99D', 'GER 99B', 'FREN 99B', 'FREN 98A', 'FREN 97A', 'FREN 92A', 'FIN 298F', 'FA 92B', 'FA 92A', 'ENVS 98B', 'ENVS 92A', 'ENG 402D', 'ENG 298A', 'ED 99B', 'ED 99A', 'ED 98B', 'ED 98A', 'ED 60A', 'ECS 98B', 'ECS 98A', 'ECON 98A', 'ECON 92A', 'ECON 299A', 'ECON 298F', 'COSI 97A', 'COSI 200A', 'COML 99D', 'COML 98B', 'COML 98A', 'COML 97A', 'COMH 301B', 'COMH 298A', 'CLAS 98A', 'CLAS 97A', 'CHIN 98B', 'CHIN 98A', 'CHEM 298A', 'CHEM 200A', 'BIPH 98B', 'BIPH 98A', 'BIOT 299A', 'BIOL 99E', 'BIOL 98A', 'BIOL 301B', 'BIOL 298A', 'BIOL 297A', 'BCHM 99E', 'BCHM 98A', 'BCBP 296B', 'BCBP 296A', 'ARBC 98A', 'ANTH 92A', 'ANTH 400D', 'ANTH 398A', 'ANTH 300A', 'ANTH 228B', 'ANTH 228A', 'ANTH 227B', 'ANTH 227A', 'ANTH 226B', 'ANTH 223A', 'ANTH 222A', 'ANTH 220A', 'ANTH 219B', 'ANTH 188B', 'ANTH 187A', 'AMST 98A', 'AMST 97A', 'AMST 92A', 'AAAS 98B', 'AAAS 98A']\n"
     ]
    }
   ],
   "source": [
    "course_set=set(course[\"code\"] for course in courses)\n",
    "top_courses2=[(sum([course[\"enrolled\"] for course in courses if course[\"code\"]==code]),code[0]+\" \"+code[1]) for code in course_set]\n",
    "top_courses2=sorted(top_courses2, reverse=True)\n",
    "print([topten[1] for topten in top_courses2][:20])"
   ]
  },
  {
   "cell_type": "markdown",
   "metadata": {},
   "source": [
    "I) Create your own interesting question (each team member creates their own) and use Python to answer that question."
   ]
  },
  {
   "cell_type": "markdown",
   "metadata": {},
   "source": [
    "Ben: What are the 10 professors who teach the most COSI courses and the number of courses they taught?"
   ]
  },
  {
   "cell_type": "code",
   "execution_count": 15,
   "metadata": {},
   "outputs": [
    {
     "name": "stdout",
     "output_type": "stream",
     "text": [
      "[(36, 'Paul Miller'), (31, 'James Pustejovsky'), (21, 'Timothy J Hickey'), (21, 'Pengyu Hong'), (18, 'Ralph Salas'), (16, 'Jordan Pollack'), (15, 'Richard Alterman'), (15, 'Olga Papaemmanouil'), (15, 'Nianwen Xue'), (15, 'Mitch Cherniack')]\n"
     ]
    }
   ],
   "source": [
    "instructors=set(course[\"instructor\"] for course in courses if course[\"subject\"]==\"COSI\")\n",
    "professors_courses=[(len([course[\"code\"] for course in courses if course[\"instructor\"]==instructor]),instructor[0]+\" \"+instructor[1]) for instructor in instructors]\n",
    "professors_courses=sorted(professors_courses,reverse=True)\n",
    "print(professors_courses[0:10])\n",
    "\n",
    "    \n",
    "        "
   ]
  },
  {
   "cell_type": "markdown",
   "metadata": {},
   "source": [
    "Jason:"
   ]
  },
  {
   "cell_type": "code",
   "execution_count": null,
   "metadata": {},
   "outputs": [],
   "source": []
  },
  {
   "cell_type": "markdown",
   "metadata": {},
   "source": [
    "Kayla:"
   ]
  },
  {
   "cell_type": "code",
   "execution_count": null,
   "metadata": {},
   "outputs": [],
   "source": []
  },
  {
   "cell_type": "markdown",
   "metadata": {},
   "source": [
    "Kevin:"
   ]
  },
  {
   "cell_type": "code",
   "execution_count": null,
   "metadata": {},
   "outputs": [],
   "source": []
  },
  {
   "cell_type": "markdown",
   "metadata": {},
   "source": [
    "Mason: "
   ]
  },
  {
   "cell_type": "code",
   "execution_count": null,
   "metadata": {},
   "outputs": [],
   "source": []
  }
 ],
 "metadata": {
  "interpreter": {
   "hash": "04b9ab4f2ed1f4ce3e669eed065b2bc9670f4db397352b52f3c4d803c5291a3c"
  },
  "kernelspec": {
   "display_name": "Python 3 (ipykernel)",
   "language": "python",
   "name": "python3"
  },
  "language_info": {
   "codemirror_mode": {
    "name": "ipython",
    "version": 3
   },
   "file_extension": ".py",
   "mimetype": "text/x-python",
   "name": "python",
   "nbconvert_exporter": "python",
   "pygments_lexer": "ipython3",
   "version": "3.8.3"
  }
 },
 "nbformat": 4,
 "nbformat_minor": 4
}
