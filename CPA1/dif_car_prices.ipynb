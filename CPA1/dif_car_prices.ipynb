{
 "cells": [
  {
   "cell_type": "markdown",
   "metadata": {},
   "source": [
    "# Car Prices based on Car Features"
   ]
  },
  {
   "cell_type": "markdown",
   "metadata": {},
   "source": [
    "In this notebook, I will be extracting the prices for different types of cars based on certain features of an automobile (i.e. number of doors, body style, type of gas/engine, etc..)"
   ]
  },
  {
   "cell_type": "markdown",
   "metadata": {},
   "source": [
    "## The Data"
   ]
  },
  {
   "cell_type": "markdown",
   "metadata": {},
   "source": [
    "First, let's import the data and models we will need.\n",
    "\n",
    "You can find the raw data at https://www.openml.org/d/9\n",
    "\n",
    "The below code takes around ~19 secs to run for me (MacBook Pro (13-inch, 2020, 1.4 GHz Quad-Core Intel Core i5, 16 GB 2133 MHz LPDDR3))"
   ]
  },
  {
   "cell_type": "code",
   "execution_count": null,
   "metadata": {},
   "outputs": [],
   "source": [
    "import pandas as pd\n",
    "import numpy as np\n",
    "from sklearn.datasets import fetch_openml\n",
    "\n",
    "X, y = fetch_openml(\"autos\", version=1, as_frame=True, return_X_y=True)\n",
    "data = X\n",
    "data['target'] = y\n",
    "\n",
    "#let's take a quick peak at the data\n",
    "print(data)"
   ]
  },
  {
   "cell_type": "markdown",
   "metadata": {},
   "source": [
    "So what questions am I looking to answer with the data I now have? Mainly, I'm curious in the average price of a car based on specific features. Moreover, I am curious as to which brands of cars are the most expensive and which are more affordable."
   ]
  },
  {
   "cell_type": "markdown",
   "metadata": {},
   "source": [
    "## Generating a Pivot Table"
   ]
  },
  {
   "cell_type": "markdown",
   "metadata": {},
   "source": [
    "Now, I'll load the data into a dataframe and generate a pivot table with it."
   ]
  },
  {
   "cell_type": "code",
   "execution_count": null,
   "metadata": {},
   "outputs": [],
   "source": [
    "pivot = np.round(pd.pivot_table(data, values='price', \n",
    "                                index='num-of-doors', \n",
    "                                columns='fuel-type', \n",
    "                                aggfunc=np.mean),2)\n",
    "print(pivot)"
   ]
  },
  {
   "cell_type": "markdown",
   "metadata": {},
   "source": [
    "This is a pretty barebones table, but it shows the key info: price for types of cars based on certain features of an automobile and types of gas. Let's get more complicated."
   ]
  },
  {
   "cell_type": "code",
   "execution_count": null,
   "metadata": {},
   "outputs": [],
   "source": [
    "pivot = np.round(pd.pivot_table(data, values='price', \n",
    "                                index=['num-of-doors', 'body-style'], \n",
    "                                columns=['fuel-type', 'fuel-system'], \n",
    "                                aggfunc=np.mean,\n",
    "                                fill_value=0),2)\n",
    "                                \n",
    "print(pivot)"
   ]
  },
  {
   "cell_type": "markdown",
   "metadata": {},
   "source": [
    "Okay! Now we have some serious data. We can see the cost of fuel (in cents) for different types of cars with different features for each car."
   ]
  },
  {
   "cell_type": "markdown",
   "metadata": {},
   "source": [
    "## Now let's make some pretty plots!"
   ]
  },
  {
   "cell_type": "markdown",
   "metadata": {},
   "source": [
    "Pandas is awesome and I barely have to do any work to plot the above data..."
   ]
  },
  {
   "cell_type": "code",
   "execution_count": null,
   "metadata": {},
   "outputs": [],
   "source": [
    "np.round(pd.pivot_table(data, values='price', \n",
    "                                index=['make'], \n",
    "                                columns=['num-of-doors'], \n",
    "                                aggfunc=np.mean,\n",
    "                                fill_value=0),2).plot.barh(figsize=(10,7),\n",
    "                                                          title='Mean car price by make and number of doors')\n"
   ]
  },
  {
   "cell_type": "markdown",
   "metadata": {},
   "source": [
    "By simply adding .plot(), I am able to render this nice histograph of car makers, the number of doors of their cars, and the average price of their cars."
   ]
  },
  {
   "cell_type": "markdown",
   "metadata": {},
   "source": [
    "From this, we can see that the most expensive brands (for 4 doors) is mercedes and jaguar and that the most affordable brand is plymouth, isuzu, and chevrolet."
   ]
  },
  {
   "cell_type": "markdown",
   "metadata": {},
   "source": [
    "## Pictures and plots are great, but let's work with numbers"
   ]
  },
  {
   "cell_type": "markdown",
   "metadata": {},
   "source": [
    "I'll start by calculating from meaningful statistics: the mean and median price for car body style and the number of doors."
   ]
  },
  {
   "cell_type": "code",
   "execution_count": null,
   "metadata": {},
   "outputs": [],
   "source": [
    "np.round(pd.pivot_table(data, values='price', \n",
    "                                index=['body-style'], \n",
    "                                columns=['num-of-doors'], \n",
    "                                aggfunc=[np.mean, np.median],\n",
    "                                fill_value=0),2)"
   ]
  },
  {
   "cell_type": "markdown",
   "metadata": {},
   "source": [
    "I think that the destinction between number of doors is important, but it isn't vital. "
   ]
  },
  {
   "cell_type": "code",
   "execution_count": null,
   "metadata": {},
   "outputs": [],
   "source": [
    "np.round(pd.pivot_table(data, values='price', \n",
    "                                index=['body-style'], \n",
    "                                columns=['num-of-doors'], \n",
    "                                aggfunc=[np.sum],\n",
    "                                fill_value=0,\n",
    "                                margins=True, margins_name='Total'),2)"
   ]
  },
  {
   "cell_type": "markdown",
   "metadata": {},
   "source": [
    "Awesome, now we have the sums of both! Let's finally draw some meaningful insights...."
   ]
  },
  {
   "cell_type": "markdown",
   "metadata": {},
   "source": [
    "## So what can we learn?"
   ]
  },
  {
   "cell_type": "markdown",
   "metadata": {},
   "source": [
    "Let's style the data and begin looking at it critically."
   ]
  },
  {
   "cell_type": "code",
   "execution_count": null,
   "metadata": {},
   "outputs": [],
   "source": [
    "pivot = np.round(pd.pivot_table(data, values=['price', 'horsepower'], \n",
    "                                index=['make'], \n",
    "                                aggfunc=np.mean,\n",
    "                                fill_value=0),2)\n",
    "\n",
    "pivot.style.format({'price':'${0:,.0f}',\n",
    "                   'horsepower':'{0:,.0f}hp'})"
   ]
  },
  {
   "cell_type": "markdown",
   "metadata": {},
   "source": [
    "Okay, this is all we need. We have our info and we can draw some pretty good conclusions. For instance, the best 'bang for your buck' brand so-to-speak is Mercury!"
   ]
  },
  {
   "cell_type": "markdown",
   "metadata": {},
   "source": [
    "I like pictures better than data tables, however, so let's generate one!"
   ]
  },
  {
   "cell_type": "code",
   "execution_count": null,
   "metadata": {},
   "outputs": [],
   "source": [
    "pivot = np.round(pd.pivot_table(data, values=['price', 'horsepower'], \n",
    "                                index=['make'], \n",
    "                                aggfunc=np.mean,\n",
    "                                fill_value=0),2)\n",
    "                                \n",
    "pivot = pivot.reindex(pivot['price'].sort_values(ascending=False).index).nlargest(10, 'price')\n",
    "\n",
    "pivot.style.format({'price':'${0:,.0f}',\n",
    "                   'horsepower':'{0:,.0f}hp'}).bar(color='#d65f5f')"
   ]
  },
  {
   "cell_type": "markdown",
   "metadata": {},
   "source": [
    "## Using .groupby()"
   ]
  },
  {
   "cell_type": "markdown",
   "metadata": {},
   "source": [
    "Per the assignment's instructions, using the .groupby() method is necessary to comprehensively understand a data set. Similarly to the above processes, viewing the data grouped by specific features (like in a pivot table) is useful. Above, I grouped by maker and by car features. Below, I will use .groupby() to group cars by their fuel-type."
   ]
  },
  {
   "cell_type": "code",
   "execution_count": null,
   "metadata": {},
   "outputs": [],
   "source": [
    "data.groupby(['fuel-type']).mean()"
   ]
  },
  {
   "cell_type": "markdown",
   "metadata": {},
   "source": [
    "So, looking at the above results, we can deduce soe pretty useful average information regarding cars of different fuel types. For exmple, we can see that the average hoursepower of cars using gas is on average higher than that of cars using diesel. "
   ]
  }
 ],
 "metadata": {
  "interpreter": {
   "hash": "04b9ab4f2ed1f4ce3e669eed065b2bc9670f4db397352b52f3c4d803c5291a3c"
  },
  "kernelspec": {
   "display_name": "Python 3.8.12 64-bit ('COSI_101A': conda)",
   "name": "python3"
  },
  "language_info": {
   "codemirror_mode": {
    "name": "ipython",
    "version": 3
   },
   "file_extension": ".py",
   "mimetype": "text/x-python",
   "name": "python",
   "nbconvert_exporter": "python",
   "pygments_lexer": "ipython3",
   "version": "3.8.12"
  },
  "orig_nbformat": 4
 },
 "nbformat": 4,
 "nbformat_minor": 2
}