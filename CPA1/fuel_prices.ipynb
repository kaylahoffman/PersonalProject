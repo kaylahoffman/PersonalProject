{
 "cells": [
  {
   "cell_type": "markdown",
   "metadata": {},
   "source": [
    "# Fuel Prices based on Car Features"
   ]
  },
  {
   "cell_type": "markdown",
   "metadata": {},
   "source": [
    "In this notebook, I will be extracting the prices for different types of fuel based on certain features of an automobile (i.e. number of doors, body style, etc..)"
   ]
  },
  {
   "cell_type": "markdown",
   "metadata": {},
   "source": [
    "## The Data"
   ]
  },
  {
   "cell_type": "markdown",
   "metadata": {},
   "source": [
    "First, let's import the data and models we will need.\n",
    "\n",
    "You can find the raw data at https://www.openml.org/d/9"
   ]
  },
  {
   "cell_type": "code",
   "execution_count": 16,
   "metadata": {},
   "outputs": [
    {
     "name": "stdout",
     "output_type": "stream",
     "text": [
      "     normalized-losses         make fuel-type aspiration num-of-doors  \\\n",
      "0                  NaN  alfa-romero       gas        std          two   \n",
      "1                  NaN  alfa-romero       gas        std          two   \n",
      "2                  NaN  alfa-romero       gas        std          two   \n",
      "3                164.0         audi       gas        std         four   \n",
      "4                164.0         audi       gas        std         four   \n",
      "..                 ...          ...       ...        ...          ...   \n",
      "200               95.0        volvo       gas        std         four   \n",
      "201               95.0        volvo       gas      turbo         four   \n",
      "202               95.0        volvo       gas        std         four   \n",
      "203               95.0        volvo    diesel      turbo         four   \n",
      "204               95.0        volvo       gas      turbo         four   \n",
      "\n",
      "      body-style drive-wheels engine-location  wheel-base  length  ...  \\\n",
      "0    convertible          rwd           front        88.6   168.8  ...   \n",
      "1    convertible          rwd           front        88.6   168.8  ...   \n",
      "2      hatchback          rwd           front        94.5   171.2  ...   \n",
      "3          sedan          fwd           front        99.8   176.6  ...   \n",
      "4          sedan          4wd           front        99.4   176.6  ...   \n",
      "..           ...          ...             ...         ...     ...  ...   \n",
      "200        sedan          rwd           front       109.1   188.8  ...   \n",
      "201        sedan          rwd           front       109.1   188.8  ...   \n",
      "202        sedan          rwd           front       109.1   188.8  ...   \n",
      "203        sedan          rwd           front       109.1   188.8  ...   \n",
      "204        sedan          rwd           front       109.1   188.8  ...   \n",
      "\n",
      "     fuel-system  bore  stroke compression-ratio horsepower  peak-rpm  \\\n",
      "0           mpfi  3.47    2.68               9.0      111.0    5000.0   \n",
      "1           mpfi  3.47    2.68               9.0      111.0    5000.0   \n",
      "2           mpfi  2.68    3.47               9.0      154.0    5000.0   \n",
      "3           mpfi  3.19    3.40              10.0      102.0    5500.0   \n",
      "4           mpfi  3.19    3.40               8.0      115.0    5500.0   \n",
      "..           ...   ...     ...               ...        ...       ...   \n",
      "200         mpfi  3.78    3.15               9.5      114.0    5400.0   \n",
      "201         mpfi  3.78    3.15               8.7      160.0    5300.0   \n",
      "202         mpfi  3.58    2.87               8.8      134.0    5500.0   \n",
      "203          idi  3.01    3.40              23.0      106.0    4800.0   \n",
      "204         mpfi  3.78    3.15               9.5      114.0    5400.0   \n",
      "\n",
      "    city-mpg  highway-mpg    price  target  \n",
      "0       21.0         27.0  13495.0       3  \n",
      "1       21.0         27.0  16500.0       3  \n",
      "2       19.0         26.0  16500.0       1  \n",
      "3       24.0         30.0  13950.0       2  \n",
      "4       18.0         22.0  17450.0       2  \n",
      "..       ...          ...      ...     ...  \n",
      "200     23.0         28.0  16845.0      -1  \n",
      "201     19.0         25.0  19045.0      -1  \n",
      "202     18.0         23.0  21485.0      -1  \n",
      "203     26.0         27.0  22470.0      -1  \n",
      "204     19.0         25.0  22625.0      -1  \n",
      "\n",
      "[205 rows x 26 columns]\n"
     ]
    }
   ],
   "source": [
    "import pandas as pd\n",
    "import numpy as np\n",
    "from sklearn.datasets import fetch_openml\n",
    "\n",
    "X, y = fetch_openml(\"autos\", version=1, as_frame=True, return_X_y=True)\n",
    "data = X\n",
    "data['target'] = y\n",
    "\n",
    "#let's take a quick peak at the data\n",
    "print(data)"
   ]
  },
  {
   "cell_type": "markdown",
   "metadata": {},
   "source": [
    "So what questions am I looking to answer with the data I now have? Mainly, I'm curious in the price of fuel for different cars based on specific features. Moreover, I am curious as to which brands of cars are actually the most fuel efficient."
   ]
  },
  {
   "cell_type": "markdown",
   "metadata": {},
   "source": [
    "## Generating a Pivot Table"
   ]
  },
  {
   "cell_type": "markdown",
   "metadata": {},
   "source": [
    "Now, I'll load the data into a dataframe and generate a pivot table with it."
   ]
  },
  {
   "cell_type": "code",
   "execution_count": 17,
   "metadata": {},
   "outputs": [
    {
     "name": "stdout",
     "output_type": "stream",
     "text": [
      "fuel-type       diesel       gas\n",
      "num-of-doors                    \n",
      "four          16432.38  13092.81\n",
      "two           14350.00  12762.76\n"
     ]
    }
   ],
   "source": [
    "pivot = np.round(pd.pivot_table(data, values='price', \n",
    "                                index='num-of-doors', \n",
    "                                columns='fuel-type', \n",
    "                                aggfunc=np.mean),2)\n",
    "print(pivot)"
   ]
  },
  {
   "cell_type": "markdown",
   "metadata": {},
   "source": [
    "This is a pretty barebones table, but it shows the key info: price for types of gas based on certain features of an automobile. Let's get more complicated."
   ]
  },
  {
   "cell_type": "code",
   "execution_count": 18,
   "metadata": {},
   "outputs": [
    {
     "name": "stdout",
     "output_type": "stream",
     "text": [
      "fuel-type                   diesel      gas                                   \\\n",
      "fuel-system                    idi     1bbl     2bbl   4bbl    mfi      mpfi   \n",
      "num-of-doors body-style                                                        \n",
      "four         wagon        19727.67  7295.00  8028.89      0      0  14213.42   \n",
      "             sedan        16328.92  8811.67  7711.19      0      0  18425.68   \n",
      "             hatchback     7788.00     0.00  7813.71      0      0  10618.00   \n",
      "two          hardtop      28176.00     0.00  8249.00      0      0  23540.50   \n",
      "             sedan         7437.00     0.00  7570.00      0      0  21034.00   \n",
      "             hatchback        0.00  7054.43  6701.67  12145  12964  14581.50   \n",
      "             convertible      0.00     0.00     0.00      0      0  21890.50   \n",
      "\n",
      "fuel-type                                  \n",
      "fuel-system                   spdi   spfi  \n",
      "num-of-doors body-style                    \n",
      "four         wagon            0.00      0  \n",
      "             sedan         9279.00      0  \n",
      "             hatchback        0.00      0  \n",
      "two          hardtop          0.00      0  \n",
      "             sedan            0.00      0  \n",
      "             hatchback    11479.43  11048  \n",
      "             convertible      0.00      0  \n"
     ]
    }
   ],
   "source": [
    "pivot = np.round(pd.pivot_table(data, values='price', \n",
    "                                index=['num-of-doors', 'body-style'], \n",
    "                                columns=['fuel-type', 'fuel-system'], \n",
    "                                aggfunc=np.mean,\n",
    "                                fill_value=0),2)\n",
    "                                \n",
    "print(pivot)"
   ]
  },
  {
   "cell_type": "markdown",
   "metadata": {},
   "source": [
    "Okay! Now we have some serious data. We can see the cost of fuel (in cents) for different types of cars with different features for each car."
   ]
  },
  {
   "cell_type": "markdown",
   "metadata": {},
   "source": [
    "## Now let's make some pretty plots!"
   ]
  },
  {
   "cell_type": "markdown",
   "metadata": {},
   "source": [
    "Pandas is awesome and I barely have to do any work to plot the above data..."
   ]
  },
  {
   "cell_type": "code",
   "execution_count": 19,
   "metadata": {},
   "outputs": [
    {
     "data": {
      "text/plain": [
       "<AxesSubplot:title={'center':'Mean car price by make and number of doors'}, ylabel='make'>"
      ]
     },
     "execution_count": 19,
     "metadata": {},
     "output_type": "execute_result"
    },
    {
     "data": {
      "image/png": "[encoded data removed]",
      "text/plain": [
       "<Figure size 720x504 with 1 Axes>"
      ]
     },
     "metadata": {
      "needs_background": "light"
     },
     "output_type": "display_data"
    }
   ],
   "source": [
    "np.round(pd.pivot_table(data, values='price', \n",
    "                                index=['make'], \n",
    "                                columns=['num-of-doors'], \n",
    "                                aggfunc=np.mean,\n",
    "                                fill_value=0),2).plot.barh(figsize=(10,7),\n",
    "                                                          title='Mean car price by make and number of doors')\n"
   ]
  },
  {
   "cell_type": "markdown",
   "metadata": {},
   "source": [
    "By simply adding .plot(), I am able to render this nice histograph of car makers, the number of doors of their cars, and the price of fuel."
   ]
  },
  {
   "cell_type": "markdown",
   "metadata": {},
   "source": [
    "From this, we can see that the least fuel efficient brand (for 4 doors) is mercedes and jaguar and that the most fuel efficient brand is plymouth, isuzu, and chevrolet."
   ]
  },
  {
   "cell_type": "markdown",
   "metadata": {},
   "source": [
    "## Pictures and plots are great, but let's work with numbers"
   ]
  },
  {
   "cell_type": "markdown",
   "metadata": {},
   "source": [
    "I'll start by calculating from meaningful statistics: the mean and median price for car body style and the number of doors."
   ]
  },
  {
   "cell_type": "code",
   "execution_count": 20,
   "metadata": {},
   "outputs": [
    {
     "data": {
      "text/html": [
       "<div>\n",
       "<style scoped>\n",
       "    .dataframe tbody tr th:only-of-type {\n",
       "        vertical-align: middle;\n",
       "    }\n",
       "\n",
       "    .dataframe tbody tr th {\n",
       "        vertical-align: top;\n",
       "    }\n",
       "\n",
       "    .dataframe thead tr th {\n",
       "        text-align: left;\n",
       "    }\n",
       "\n",
       "    .dataframe thead tr:last-of-type th {\n",
       "        text-align: right;\n",
       "    }\n",
       "</style>\n",
       "<table border=\"1\" class=\"dataframe\">\n",
       "  <thead>\n",
       "    <tr>\n",
       "      <th></th>\n",
       "      <th colspan=\"2\" halign=\"left\">mean</th>\n",
       "      <th colspan=\"2\" halign=\"left\">median</th>\n",
       "    </tr>\n",
       "    <tr>\n",
       "      <th>num-of-doors</th>\n",
       "      <th>four</th>\n",
       "      <th>two</th>\n",
       "      <th>four</th>\n",
       "      <th>two</th>\n",
       "    </tr>\n",
       "    <tr>\n",
       "      <th>body-style</th>\n",
       "      <th></th>\n",
       "      <th></th>\n",
       "      <th></th>\n",
       "      <th></th>\n",
       "    </tr>\n",
       "  </thead>\n",
       "  <tbody>\n",
       "    <tr>\n",
       "      <th>hardtop</th>\n",
       "      <td>0.00</td>\n",
       "      <td>22208.50</td>\n",
       "      <td>0</td>\n",
       "      <td>19687.5</td>\n",
       "    </tr>\n",
       "    <tr>\n",
       "      <th>wagon</th>\n",
       "      <td>12371.96</td>\n",
       "      <td>0.00</td>\n",
       "      <td>11694</td>\n",
       "      <td>0.0</td>\n",
       "    </tr>\n",
       "    <tr>\n",
       "      <th>sedan</th>\n",
       "      <td>14614.13</td>\n",
       "      <td>14283.00</td>\n",
       "      <td>12555</td>\n",
       "      <td>8678.0</td>\n",
       "    </tr>\n",
       "    <tr>\n",
       "      <th>hatchback</th>\n",
       "      <td>8372.00</td>\n",
       "      <td>10230.79</td>\n",
       "      <td>8073</td>\n",
       "      <td>8970.0</td>\n",
       "    </tr>\n",
       "    <tr>\n",
       "      <th>convertible</th>\n",
       "      <td>0.00</td>\n",
       "      <td>21890.50</td>\n",
       "      <td>0</td>\n",
       "      <td>17084.5</td>\n",
       "    </tr>\n",
       "  </tbody>\n",
       "</table>\n",
       "</div>"
      ],
      "text/plain": [
       "                  mean           median         \n",
       "num-of-doors      four       two   four      two\n",
       "body-style                                      \n",
       "hardtop           0.00  22208.50      0  19687.5\n",
       "wagon         12371.96      0.00  11694      0.0\n",
       "sedan         14614.13  14283.00  12555   8678.0\n",
       "hatchback      8372.00  10230.79   8073   8970.0\n",
       "convertible       0.00  21890.50      0  17084.5"
      ]
     },
     "execution_count": 20,
     "metadata": {},
     "output_type": "execute_result"
    }
   ],
   "source": [
    "np.round(pd.pivot_table(data, values='price', \n",
    "                                index=['body-style'], \n",
    "                                columns=['num-of-doors'], \n",
    "                                aggfunc=[np.mean, np.median],\n",
    "                                fill_value=0),2)"
   ]
  },
  {
   "cell_type": "markdown",
   "metadata": {},
   "source": [
    "I think that the destinction between number of doors is important, but it isn't vital. "
   ]
  },
  {
   "cell_type": "code",
   "execution_count": 21,
   "metadata": {},
   "outputs": [
    {
     "data": {
      "text/html": [
       "<div>\n",
       "<style scoped>\n",
       "    .dataframe tbody tr th:only-of-type {\n",
       "        vertical-align: middle;\n",
       "    }\n",
       "\n",
       "    .dataframe tbody tr th {\n",
       "        vertical-align: top;\n",
       "    }\n",
       "\n",
       "    .dataframe thead tr th {\n",
       "        text-align: left;\n",
       "    }\n",
       "\n",
       "    .dataframe thead tr:last-of-type th {\n",
       "        text-align: right;\n",
       "    }\n",
       "</style>\n",
       "<table border=\"1\" class=\"dataframe\">\n",
       "  <thead>\n",
       "    <tr>\n",
       "      <th></th>\n",
       "      <th colspan=\"3\" halign=\"left\">sum</th>\n",
       "    </tr>\n",
       "    <tr>\n",
       "      <th>num-of-doors</th>\n",
       "      <th>four</th>\n",
       "      <th>two</th>\n",
       "      <th>Total</th>\n",
       "    </tr>\n",
       "    <tr>\n",
       "      <th>body-style</th>\n",
       "      <th></th>\n",
       "      <th></th>\n",
       "      <th></th>\n",
       "    </tr>\n",
       "  </thead>\n",
       "  <tbody>\n",
       "    <tr>\n",
       "      <th>hardtop</th>\n",
       "      <td>0</td>\n",
       "      <td>177668</td>\n",
       "      <td>177668.0</td>\n",
       "    </tr>\n",
       "    <tr>\n",
       "      <th>wagon</th>\n",
       "      <td>309299</td>\n",
       "      <td>0</td>\n",
       "      <td>309299.0</td>\n",
       "    </tr>\n",
       "    <tr>\n",
       "      <th>sedan</th>\n",
       "      <td>1139902</td>\n",
       "      <td>199962</td>\n",
       "      <td>1339864.0</td>\n",
       "    </tr>\n",
       "    <tr>\n",
       "      <th>hatchback</th>\n",
       "      <td>83720</td>\n",
       "      <td>593386</td>\n",
       "      <td>677106.0</td>\n",
       "    </tr>\n",
       "    <tr>\n",
       "      <th>convertible</th>\n",
       "      <td>0</td>\n",
       "      <td>131343</td>\n",
       "      <td>131343.0</td>\n",
       "    </tr>\n",
       "    <tr>\n",
       "      <th>Total</th>\n",
       "      <td>1532921</td>\n",
       "      <td>1102359</td>\n",
       "      <td>2635280.0</td>\n",
       "    </tr>\n",
       "  </tbody>\n",
       "</table>\n",
       "</div>"
      ],
      "text/plain": [
       "                  sum                    \n",
       "num-of-doors     four      two      Total\n",
       "body-style                               \n",
       "hardtop             0   177668   177668.0\n",
       "wagon          309299        0   309299.0\n",
       "sedan         1139902   199962  1339864.0\n",
       "hatchback       83720   593386   677106.0\n",
       "convertible         0   131343   131343.0\n",
       "Total         1532921  1102359  2635280.0"
      ]
     },
     "execution_count": 21,
     "metadata": {},
     "output_type": "execute_result"
    }
   ],
   "source": [
    "np.round(pd.pivot_table(data, values='price', \n",
    "                                index=['body-style'], \n",
    "                                columns=['num-of-doors'], \n",
    "                                aggfunc=[np.sum],\n",
    "                                fill_value=0,\n",
    "                                margins=True, margins_name='Total'),2)"
   ]
  },
  {
   "cell_type": "markdown",
   "metadata": {},
   "source": [
    "awesome, now we have the sums of both!"
   ]
  }
 ],
 "metadata": {
  "interpreter": {
   "hash": "04b9ab4f2ed1f4ce3e669eed065b2bc9670f4db397352b52f3c4d803c5291a3c"
  },
  "kernelspec": {
   "display_name": "Python 3.8.12 64-bit ('COSI_101A': conda)",
   "name": "python3"
  },
  "language_info": {
   "codemirror_mode": {
    "name": "ipython",
    "version": 3
   },
   "file_extension": ".py",
   "mimetype": "text/x-python",
   "name": "python",
   "nbconvert_exporter": "python",
   "pygments_lexer": "ipython3",
   "version": "3.8.12"
  },
  "orig_nbformat": 4
 },
 "nbformat": 4,
 "nbformat_minor": 2
}