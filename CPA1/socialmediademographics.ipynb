{
 "cells": [
  {
   "cell_type": "markdown",
   "metadata": {},
   "source": [
    "# SOCIAL MEDIA DEMOGRAPHICS\n",
    "\n",
    "What are the demographics of the world's largest social media platform?\n",
    "\n",
    "Average Gender?\n",
    "Average Age?\n",
    "Most Common Date Of Birth?\n",
    "\n",
    "\n",
    "<img src=\"https://1000logos.net/wp-content/uploads/2016/11/meta-logo.png\" alt=\"drawing\" width=\"60\" height='40' style='display:inline'/>\n",
    "\n",
    "\n",
    "\n"
   ]
  },
  {
   "cell_type": "markdown",
   "metadata": {},
   "source": [
    "# Data Cleaning and Extraction"
   ]
  },
  {
   "cell_type": "markdown",
   "metadata": {},
   "source": [
    "### 1. First, we need to get the data"
   ]
  },
  {
   "cell_type": "code",
   "execution_count": 54,
   "metadata": {},
   "outputs": [
    {
     "data": {
      "text/html": [
       "<div>\n",
       "<style scoped>\n",
       "    .dataframe tbody tr th:only-of-type {\n",
       "        vertical-align: middle;\n",
       "    }\n",
       "\n",
       "    .dataframe tbody tr th {\n",
       "        vertical-align: top;\n",
       "    }\n",
       "\n",
       "    .dataframe thead th {\n",
       "        text-align: right;\n",
       "    }\n",
       "</style>\n",
       "<table border=\"1\" class=\"dataframe\">\n",
       "  <thead>\n",
       "    <tr style=\"text-align: right;\">\n",
       "      <th></th>\n",
       "      <th>userid</th>\n",
       "      <th>age</th>\n",
       "      <th>dob_day</th>\n",
       "      <th>dob_year</th>\n",
       "      <th>dob_month</th>\n",
       "      <th>gender</th>\n",
       "      <th>tenure</th>\n",
       "      <th>friend_count</th>\n",
       "      <th>friendships_initiated</th>\n",
       "      <th>likes</th>\n",
       "      <th>likes_received</th>\n",
       "      <th>mobile_likes</th>\n",
       "      <th>mobile_likes_received</th>\n",
       "      <th>www_likes</th>\n",
       "      <th>www_likes_received</th>\n",
       "    </tr>\n",
       "  </thead>\n",
       "  <tbody>\n",
       "    <tr>\n",
       "      <th>count</th>\n",
       "      <td>15608</td>\n",
       "      <td>15608</td>\n",
       "      <td>15608</td>\n",
       "      <td>15608</td>\n",
       "      <td>15608</td>\n",
       "      <td>15608</td>\n",
       "      <td>15608</td>\n",
       "      <td>15608</td>\n",
       "      <td>15608</td>\n",
       "      <td>15608</td>\n",
       "      <td>15608</td>\n",
       "      <td>15608</td>\n",
       "      <td>15608</td>\n",
       "      <td>15608</td>\n",
       "      <td>15608</td>\n",
       "    </tr>\n",
       "    <tr>\n",
       "      <th>unique</th>\n",
       "      <td>15608</td>\n",
       "      <td>40</td>\n",
       "      <td>31</td>\n",
       "      <td>40</td>\n",
       "      <td>12</td>\n",
       "      <td>2</td>\n",
       "      <td>1828</td>\n",
       "      <td>2095</td>\n",
       "      <td>1296</td>\n",
       "      <td>2519</td>\n",
       "      <td>2461</td>\n",
       "      <td>2182</td>\n",
       "      <td>1856</td>\n",
       "      <td>1434</td>\n",
       "      <td>1501</td>\n",
       "    </tr>\n",
       "    <tr>\n",
       "      <th>top</th>\n",
       "      <td>2109118</td>\n",
       "      <td>18</td>\n",
       "      <td>1</td>\n",
       "      <td>1995</td>\n",
       "      <td>1</td>\n",
       "      <td>female</td>\n",
       "      <td>274</td>\n",
       "      <td>61</td>\n",
       "      <td>46</td>\n",
       "      <td>107</td>\n",
       "      <td>0</td>\n",
       "      <td>0</td>\n",
       "      <td>0</td>\n",
       "      <td>0</td>\n",
       "      <td>0</td>\n",
       "    </tr>\n",
       "    <tr>\n",
       "      <th>freq</th>\n",
       "      <td>1</td>\n",
       "      <td>1277</td>\n",
       "      <td>856</td>\n",
       "      <td>1277</td>\n",
       "      <td>1501</td>\n",
       "      <td>10042</td>\n",
       "      <td>40</td>\n",
       "      <td>59</td>\n",
       "      <td>96</td>\n",
       "      <td>83</td>\n",
       "      <td>99</td>\n",
       "      <td>520</td>\n",
       "      <td>180</td>\n",
       "      <td>5598</td>\n",
       "      <td>426</td>\n",
       "    </tr>\n",
       "  </tbody>\n",
       "</table>\n",
       "</div>"
      ],
      "text/plain": [
       "         userid    age dob_day dob_year dob_month  gender tenure friend_count  \\\n",
       "count     15608  15608   15608    15608     15608   15608  15608        15608   \n",
       "unique    15608     40      31       40        12       2   1828         2095   \n",
       "top     2109118     18       1     1995         1  female    274           61   \n",
       "freq          1   1277     856     1277      1501   10042     40           59   \n",
       "\n",
       "       friendships_initiated  likes likes_received mobile_likes  \\\n",
       "count                  15608  15608          15608        15608   \n",
       "unique                  1296   2519           2461         2182   \n",
       "top                       46    107              0            0   \n",
       "freq                      96     83             99          520   \n",
       "\n",
       "       mobile_likes_received www_likes www_likes_received  \n",
       "count                  15608     15608              15608  \n",
       "unique                  1856      1434               1501  \n",
       "top                        0         0                  0  \n",
       "freq                     180      5598                426  "
      ]
     },
     "execution_count": 54,
     "metadata": {},
     "output_type": "execute_result"
    }
   ],
   "source": [
    "import csv\n",
    "import pandas as pd\n",
    "\n",
    "input_file = csv.DictReader(open(\"cpa1_data/facebook_data.csv\", \"r\", encoding='UTF-8'))\n",
    "\n",
    "#get only highly active accounts\n",
    "cleaned_user_data = [user for user in (user_image for user_image in input_file) \n",
    "                    if int(user['dob_year'])>1960 and \n",
    "                    int(user['friend_count'])>10 and \n",
    "                    int(user['friendships_initiated'])>10 and \n",
    "                    int(user['tenure'])>50 and \n",
    "                    int(user['likes'])>100 and\n",
    "                    (user['gender']=='male' or user['gender']=='female')]\n",
    "\n",
    "#create a pandas dataframe\n",
    "df = pd.DataFrame(cleaned_user_data)\n",
    "#describe the dataframe\n",
    "df.describe()"
   ]
  },
  {
   "cell_type": "markdown",
   "metadata": {},
   "source": [
    "### 2. Now, we can look a little closer at our data set to get a better idea of where some relevant information lies."
   ]
  },
  {
   "cell_type": "code",
   "execution_count": 55,
   "metadata": {},
   "outputs": [
    {
     "name": "stdout",
     "output_type": "stream",
     "text": [
      "['age', 'dob_day', 'dob_month', 'dob_year', 'friend_count', 'friendships_initiated', 'gender', 'likes', 'likes_received', 'mobile_likes', 'mobile_likes_received', 'tenure', 'userid', 'www_likes', 'www_likes_received'] \n",
      "\n",
      "\n",
      "... [30, 31, 32, 33, 34, 35, 36, 37, 38, 39, 40, 41, 42, 43, 44, 45, 46, 47, 48, 49] ...\n"
     ]
    }
   ],
   "source": [
    "# print the array of columns\n",
    "print(sorted(df), '\\n\\n')\n",
    "\n",
    "# print (some of) the index array\n",
    "print('...', df.index.tolist()[30:50], '...')"
   ]
  },
  {
   "cell_type": "code",
   "execution_count": null,
   "metadata": {},
   "outputs": [],
   "source": [
    "from collections import Counter\n",
    "import matplotlib.pyplot as plt\n",
    "\n",
    "male_users = [user for user in cleaned_user_data if user['gender'] == 'male']\n",
    "female_users = [user for user in cleaned_user_data if user['gender'] == 'female']\n",
    "\n",
    "user_count = len(cleaned_user_data)\n",
    "\n",
    "male_user_count = len(male_users)\n",
    "female_user_count = len(female_users)\n",
    "\n",
    "ten_to_twenty_users = [user for user in cleaned_user_data if 10<int(user['age'])<20]\n",
    "twenty_to_thirty_users = [user for user in cleaned_user_data if 21<int(user['age'])<30]\n",
    "thirty_to_forty_users = [user for user in cleaned_user_data if 31<int(user['age'])<40]\n",
    "forty_to_fifty_users = [user for user in cleaned_user_data if 41<int(user['age'])<50]\n",
    "fifty_to_sixty_users = [user for user in cleaned_user_data if 51<int(user['age'])<60]\n",
    "sixty_plus_users = [user for user in cleaned_user_data if int(user['age'])>61]\n",
    "\n",
    "ten_to_twenty_users_count = len(ten_to_twenty_users)\n",
    "twenty_to_thirty_users_count = len(twenty_to_thirty_users)\n",
    "thirty_to_forty_users_count = len(thirty_to_forty_users)\n",
    "forty_to_fifty_users_count = len(forty_to_fifty_users)\n",
    "fifty_to_sixty_users_count = len(fifty_to_sixty_users)\n",
    "sixty_plus_users_count = len(sixty_plus_users)\n",
    "\n",
    "dates_of_birth = ['{}/{}/{}'.format(user['dob_day'], user['dob_month'], user['dob_year']) for user in cleaned_user_data]"
   ]
  },
  {
   "cell_type": "markdown",
   "metadata": {},
   "source": [
    "# Data Visualization"
   ]
  },
  {
   "cell_type": "markdown",
   "metadata": {},
   "source": [
    "### A. First, let's collect relevant numbers from the dataset"
   ]
  },
  {
   "cell_type": "markdown",
   "metadata": {},
   "source": [
    "### B. Now, we can begin generating interesting plots with that data:"
   ]
  },
  {
   "cell_type": "markdown",
   "metadata": {},
   "source": [
    "## 1. Now, we can move on to plotting:"
   ]
  },
  {
   "cell_type": "code",
   "execution_count": 57,
   "metadata": {},
   "outputs": [
    {
     "data": {
      "image/png": "[encoded data removed]",
      "text/plain": [
       "<Figure size 432x288 with 1 Axes>"
      ]
     },
     "metadata": {},
     "output_type": "display_data"
    },
    {
     "data": {
      "image/png": "[encoded data removed]",
      "text/plain": [
       "<Figure size 432x288 with 1 Axes>"
      ]
     },
     "metadata": {},
     "output_type": "display_data"
    },
    {
     "data": {
      "text/plain": [
       "<BarContainer object of 20 artists>"
      ]
     },
     "execution_count": 57,
     "metadata": {},
     "output_type": "execute_result"
    },
    {
     "data": {
      "image/png": "[encoded data removed]",
      "text/plain": [
       "<Figure size 1440x216 with 1 Axes>"
      ]
     },
     "metadata": {
      "needs_background": "light"
     },
     "output_type": "display_data"
    },
    {
     "data": {
      "image/png": "[encoded data removed]",
      "text/plain": [
       "<Figure size 1440x216 with 1 Axes>"
      ]
     },
     "metadata": {
      "needs_background": "light"
     },
     "output_type": "display_data"
    }
   ],
   "source": [
    "import matplotlib.pyplot as plt\n",
    "\n",
    "gender_data = [((male_user_count/user_count)*100), ((female_user_count/user_count)*100)]\n",
    "age_data = [((ten_to_twenty_users_count/user_count)*100), ((twenty_to_thirty_users_count/user_count)*100), ((thirty_to_forty_users_count/user_count)*100),\n",
    "            ((forty_to_fifty_users_count/user_count)*100), ((fifty_to_sixty_users_count/user_count)*100), ((sixty_plus_users_count/user_count)*100)]\n",
    "\n",
    "##gender plot\n",
    "gender_labels = 'men','women'\n",
    "plt.pie(gender_data,labels=gender_labels,autopct='%1.1f%%')\n",
    "plt.title('FB Gender Stats')\n",
    "plt.axis('equal')\n",
    "plt.show()\n",
    "\n",
    "##age plot\n",
    "age_labels = '10-20','20-30','30-40','40-50','50-60','60+'\n",
    "plt.pie(age_data,labels=age_labels,autopct='%1.1f%%')\n",
    "plt.title('FB Age Stats')\n",
    "plt.axis('equal')\n",
    "plt.show()\n",
    "\n",
    "##common date of birth\n",
    "top_ten_dates_counts = (Counter(dates_of_birth).most_common(10))\n",
    "next_twenty_dates_counts = (Counter(dates_of_birth).most_common(30))[10:31]\n",
    "\n",
    "\n",
    "top_ten_x = [date_count_tuple[0] for date_count_tuple in top_ten_dates_counts]\n",
    "top_ten_y = [date_count_tuple[1] for date_count_tuple in top_ten_dates_counts]\n",
    "\n",
    "top_twenty_x = [date_count_tuple[0] for date_count_tuple in next_twenty_dates_counts]\n",
    "top_twenty_y = [date_count_tuple[1] for date_count_tuple in next_twenty_dates_counts]\n",
    "\n",
    "plt.figure(figsize=(20, 3))\n",
    "plt.title('Ten Most Common FB Bdays')\n",
    "plt.bar(top_ten_x, top_ten_y, align='edge', width=0.3)\n",
    "\n",
    "plt.figure(figsize=(20, 3))\n",
    "plt.title('Next Twenty Most Common FB Bdays')\n",
    "plt.bar(top_twenty_x, top_twenty_y, align='edge', width=0.2)\n"
   ]
  },
  {
   "cell_type": "markdown",
   "metadata": {},
   "source": []
  },
  {
   "cell_type": "markdown",
   "metadata": {},
   "source": [
    "## 2. Next, we can create a pivot table from our dataframe to further extact data"
   ]
  },
  {
   "cell_type": "code",
   "execution_count": 59,
   "metadata": {},
   "outputs": [
    {
     "name": "stdout",
     "output_type": "stream",
     "text": [
      "        age  dob_day  dob_month  dob_year  friend_count  \\\n",
      "gender                                                    \n",
      "female  inf      inf        inf       inf           inf   \n",
      "male    inf      inf        inf       inf           inf   \n",
      "\n",
      "        friendships_initiated  likes  likes_received  mobile_likes  \\\n",
      "gender                                                               \n",
      "female                    inf    inf             inf           inf   \n",
      "male                      inf    inf             inf           inf   \n",
      "\n",
      "        mobile_likes_received  tenure  userid  www_likes  www_likes_received  \n",
      "gender                                                                        \n",
      "female                    inf     inf     inf        inf                 inf  \n",
      "male                      inf     inf     inf        inf                 inf  \n"
     ]
    },
    {
     "data": {
      "image/png": "[encoded data removed]",
      "text/plain": [
       "<Figure size 432x288 with 1 Axes>"
      ]
     },
     "metadata": {
      "needs_background": "light"
     },
     "output_type": "display_data"
    }
   ],
   "source": [
    "table = pd.pivot_table(data=df,index=['gender'])\n",
    "print(table)\n",
    "table.plot(kind='bar');"
   ]
  }
 ],
 "metadata": {
  "interpreter": {
   "hash": "04b9ab4f2ed1f4ce3e669eed065b2bc9670f4db397352b52f3c4d803c5291a3c"
  },
  "kernelspec": {
   "display_name": "Python 3.8.12 64-bit ('COSI_101A': conda)",
   "name": "python3"
  },
  "language_info": {
   "codemirror_mode": {
    "name": "ipython",
    "version": 3
   },
   "file_extension": ".py",
   "mimetype": "text/x-python",
   "name": "python",
   "nbconvert_exporter": "python",
   "pygments_lexer": "ipython3",
   "version": "3.8.12"
  },
  "orig_nbformat": 4
 },
 "nbformat": 4,
 "nbformat_minor": 2
}