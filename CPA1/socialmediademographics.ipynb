{
 "cells": [
  {
   "cell_type": "markdown",
   "metadata": {},
   "source": [
    "# SOCIAL MEDIA DEMOGRAPHICS\n",
    "\n",
    "What are the demographics of the world's largest social media platform?\n",
    "\n",
    "Average Gender?\n",
    "Average Age?\n",
    "Most Common Date Of Birth?\n",
    "\n",
    "\n",
    "<img src=\"https://1000logos.net/wp-content/uploads/2016/11/meta-logo.png\" alt=\"drawing\" width=\"60\" height='40' style='display:inline'/>\n",
    "\n",
    "\n",
    "\n"
   ]
  },
  {
   "cell_type": "markdown",
   "metadata": {},
   "source": [
    "# Data Cleaning and Extraction"
   ]
  },
  {
   "cell_type": "markdown",
   "metadata": {},
   "source": [
    "### First, we need to get the data"
   ]
  },
  {
   "cell_type": "code",
   "execution_count": null,
   "metadata": {},
   "outputs": [],
   "source": [
    "import csv\n",
    "input_file = csv.DictReader(open(\"cpa1_data/facebook_data.csv\", \"r\", encoding='UTF-8'))\n",
    "\n",
    "cleaned_user_data = [user for user in (user_image for user_image in input_file) if int(user['age'])<100]"
   ]
  },
  {
   "cell_type": "markdown",
   "metadata": {},
   "source": [
    "### Next, we can get the relevant numbers for our dataset:"
   ]
  },
  {
   "cell_type": "code",
   "execution_count": null,
   "metadata": {},
   "outputs": [],
   "source": [
    "import matplotlib.pyplot as plt\n",
    "\n",
    "male_users = [user for user in cleaned_user_data if user['gender'] == 'male']\n",
    "female_users = [user for user in cleaned_user_data if user['gender'] == 'female']\n",
    "\n",
    "user_count = len(cleaned_user_data)\n",
    "\n",
    "male_user_count = len(male_users)\n",
    "female_user_count = len(female_users)\n",
    "\n",
    "ten_to_twenty_users = [user for user in cleaned_user_data if 10<int(user['age'])<20]\n",
    "twenty_to_thirty_users = [user for user in cleaned_user_data if 21<int(user['age'])<30]\n",
    "thirty_to_forty_users = [user for user in cleaned_user_data if 31<int(user['age'])<40]\n",
    "forty_to_fifty_users = [user for user in cleaned_user_data if 41<int(user['age'])<50]\n",
    "fifty_to_sixty_users = [user for user in cleaned_user_data if 51<int(user['age'])<60]\n",
    "sixty_plus_users = [user for user in cleaned_user_data if int(user['age'])>61]\n",
    "\n",
    "ten_to_twenty_users_count = len(ten_to_twenty_users)\n",
    "twenty_to_thirty_users_count = len(twenty_to_thirty_users)\n",
    "thirty_to_forty_users_count = len(thirty_to_forty_users)\n",
    "forty_to_fifty_users_count = len(forty_to_fifty_users)\n",
    "fifty_to_sixty_users_count = len(fifty_to_sixty_users)\n",
    "sixty_plus_users_count = len(sixty_plus_users)\n"
   ]
  },
  {
   "cell_type": "markdown",
   "metadata": {},
   "source": [
    "# Data Visualization"
   ]
  },
  {
   "cell_type": "markdown",
   "metadata": {},
   "source": [
    "### Now, we can begin generating interesting plots with that data:"
   ]
  },
  {
   "cell_type": "code",
   "execution_count": null,
   "metadata": {},
   "outputs": [],
   "source": [
    "import matplotlib.pyplot as plt\n",
    "\n",
    "gender_data = [((male_user_count/user_count)*100), ((female_user_count/user_count)*100)]\n",
    "age_data = [((ten_to_twenty_users_count/user_count)*100), ((twenty_to_thirty_users_count/user_count)*100), ((thirty_to_forty_users_count/user_count)*100),\n",
    "            ((forty_to_fifty_users_count/user_count)*100), ((fifty_to_sixty_users_count/user_count)*100), ((sixty_plus_users_count/user_count)*100)]\n",
    "            \n",
    "##gender plot\n",
    "gender_labels = 'men','women'\n",
    "plt.pie(gender_data,labels=gender_labels,autopct='%1.1f%%')\n",
    "plt.title('FB Gender Stats')\n",
    "plt.axis('equal')\n",
    "plt.show()\n",
    "\n",
    "##age plot\n",
    "age_labels = '10-20','20-30','30-40','40-50','50-60','60+'\n",
    "plt.pie(age_data,labels=age_labels,autopct='%1.1f%%')\n",
    "plt.title('FB Age Stats')\n",
    "plt.axis('equal')\n",
    "plt.show()\n"
   ]
  }
 ],
 "metadata": {
  "interpreter": {
   "hash": "04b9ab4f2ed1f4ce3e669eed065b2bc9670f4db397352b52f3c4d803c5291a3c"
  },
  "kernelspec": {
   "display_name": "Python 3.8.12 64-bit ('COSI_101A': conda)",
   "name": "python3"
  },
  "language_info": {
   "codemirror_mode": {
    "name": "ipython",
    "version": 3
   },
   "file_extension": ".py",
   "mimetype": "text/x-python",
   "name": "python",
   "nbconvert_exporter": "python",
   "pygments_lexer": "ipython3",
   "version": "3.8.12"
  },
  "orig_nbformat": 4
 },
 "nbformat": 4,
 "nbformat_minor": 2
}